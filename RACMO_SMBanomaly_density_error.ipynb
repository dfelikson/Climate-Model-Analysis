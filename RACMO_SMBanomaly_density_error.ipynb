{
 "cells": [
  {
   "cell_type": "code",
   "execution_count": 5,
   "metadata": {},
   "outputs": [],
   "source": [
    "import numpy as np\n",
    "from matplotlib import pyplot as plt"
   ]
  },
  {
   "cell_type": "code",
   "execution_count": 57,
   "metadata": {},
   "outputs": [],
   "source": [
    "smbMean = np.array([-5000., -4000., -3000., -2000., -1000., 0.1, 1000., 2000.])\n",
    "smbAnomaly = np.array([-1000., -700., -500., -100., -0.1, 100., 200., 300])\n",
    "smbAnomalySumError = 500.\n",
    "\n",
    "abl_density = 800.\n",
    "acc_density = 600.\n",
    "abl_density_hi = 900.\n",
    "abl_density_lo = 700.\n",
    "acc_density_hi = 900.\n",
    "acc_density_lo = 300."
   ]
  },
  {
   "cell_type": "code",
   "execution_count": 58,
   "metadata": {},
   "outputs": [
    {
     "data": {
      "text/plain": [
       "array([0.79365079, 0.74603175, 0.71428571, 0.65079365, 0.63493651,\n",
       "       1.22222222, 1.33333333, 1.44444444])"
      ]
     },
     "execution_count": 58,
     "metadata": {},
     "output_type": "execute_result"
    },
    {
     "data": {
      "image/png": "[encoded data removed]",
      "text/plain": [
       "<Figure size 432x288 with 1 Axes>"
      ]
     },
     "metadata": {
      "needs_background": "light"
     },
     "output_type": "display_data"
    }
   ],
   "source": [
    "smbAnomaly_hi = np.where(smbAnomalySumError<=0., smbAnomaly - smbAnomalySumError, 0.) + np.where(smbAnomalySumError> 0., smbAnomaly + smbAnomalySumError, 0.)\n",
    "smbAnomaly_lo = np.where(smbAnomalySumError<=0., smbAnomaly + smbAnomalySumError, 0.) + np.where(smbAnomalySumError> 0., smbAnomaly - smbAnomalySumError, 0.)\n",
    "\n",
    "smbAnomaly_dh = np.where(smbMean<=0., smbAnomaly/abl_density, 0.) + np.where(smbMean> 0., smbAnomaly/acc_density, 0.)\n",
    "smbAnomaly_hi_dh = np.where(smbMean<=0., smbAnomaly_hi/abl_density_hi, 0.) + np.where(smbMean> 0., smbAnomaly_hi/acc_density_lo, 0.)\n",
    "smbAnomaly_lo_dh = np.where(smbMean<=0., smbAnomaly_lo/abl_density_lo, 0.) + np.where(smbMean> 0., smbAnomaly_lo/acc_density_hi, 0.)\n",
    "\n",
    "plt.plot(smbAnomaly_dh, 'o')\n",
    "plt.plot(smbAnomaly_hi_dh, 'go')\n",
    "plt.plot(smbAnomaly_lo_dh, 'ro')\n",
    "np.abs(smbAnomaly_hi_dh-smbAnomaly_lo_dh)/2."
   ]
  },
  {
   "cell_type": "code",
   "execution_count": 59,
   "metadata": {},
   "outputs": [
    {
     "data": {
      "text/plain": [
       "array([0.625     , 0.625     , 0.625     , 0.625     , 0.625     ,\n",
       "       0.83333333, 0.83333333, 0.83333333])"
      ]
     },
     "execution_count": 59,
     "metadata": {},
     "output_type": "execute_result"
    }
   ],
   "source": [
    "np.abs(smbAnomaly_hi_dh-smbAnomaly_lo_dh)/2. > \\\n",
    "np.where(smbMean<=0., smbAnomalySumError/abl_density, 0.) + np.where(smbMean> 0., smbAnomalySumError/acc_density, 0.)\n",
    "\n",
    "np.where(smbMean<=0., smbAnomalySumError/abl_density, 0.) + np.where(smbMean> 0., smbAnomalySumError/acc_density, 0.)"
   ]
  }
 ],
 "metadata": {
  "kernelspec": {
   "display_name": "Python 3",
   "language": "python",
   "name": "python3"
  },
  "language_info": {
   "codemirror_mode": {
    "name": "ipython",
    "version": 3
   },
   "file_extension": ".py",
   "mimetype": "text/x-python",
   "name": "python",
   "nbconvert_exporter": "python",
   "pygments_lexer": "ipython3",
   "version": "3.6.6"
  }
 },
 "nbformat": 4,
 "nbformat_minor": 2
}
