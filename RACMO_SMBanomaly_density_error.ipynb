{
 "cells": [
  {
   "cell_type": "code",
   "execution_count": 2,
   "metadata": {},
   "outputs": [],
   "source": [
    "import numpy as np\n",
    "from matplotlib import pyplot as plt"
   ]
  },
  {
   "cell_type": "code",
   "execution_count": 11,
   "metadata": {},
   "outputs": [],
   "source": [
    "smbMean = np.array(   [-5000., -4000., -3000., -2000.,   -50.,   0.1, 1000., 2000., -400.])\n",
    "smbAnomaly = np.array([-1000.,  -700.,  -500.,  -100.,   100.,  100.,  200.,  300.,   46.])\n",
    "smbAnomalySumError = 246.\n",
    "\n",
    "abl_density = 800.\n",
    "acc_density = 600.\n",
    "abl_density_hi = 900.\n",
    "abl_density_lo = 700.\n",
    "acc_density_hi = 900.\n",
    "acc_density_lo = 300."
   ]
  },
  {
   "cell_type": "code",
   "execution_count": 33,
   "metadata": {},
   "outputs": [
    {
     "data": {
      "text/plain": [
       "array([ True,  True,  True,  True, False,  True,  True,  True, False])"
      ]
     },
     "execution_count": 33,
     "metadata": {},
     "output_type": "execute_result"
    },
    {
     "data": {
      "image/png": "[encoded data removed]",
      "text/plain": [
       "<Figure size 432x288 with 1 Axes>"
      ]
     },
     "metadata": {
      "needs_background": "light"
     },
     "output_type": "display_data"
    }
   ],
   "source": [
    "# ALGORITHM 1: account for where values are +ive/-ive and push them in the appropriate directions (this doesn't always work)\n",
    "smbAnomaly_hi = np.where(smbAnomalySumError<=0., smbAnomaly - smbAnomalySumError, 0.) + np.where(smbAnomalySumError> 0., smbAnomaly + smbAnomalySumError, 0.)\n",
    "smbAnomaly_lo = np.where(smbAnomalySumError<=0., smbAnomaly + smbAnomalySumError, 0.) + np.where(smbAnomalySumError> 0., smbAnomaly - smbAnomalySumError, 0.)\n",
    "\n",
    "smbAnomaly_dh = np.where(smbMean<=0., smbAnomaly/abl_density, 0.) + np.where(smbMean> 0., smbAnomaly/acc_density, 0.)\n",
    "smbAnomaly_hi_dh = np.where(smbMean<=0., smbAnomaly_hi/abl_density_hi, 0.) + np.where(smbMean> 0., smbAnomaly_hi/acc_density_lo, 0.)\n",
    "smbAnomaly_lo_dh = np.where(smbMean<=0., smbAnomaly_lo/abl_density_lo, 0.) + np.where(smbMean> 0., smbAnomaly_lo/acc_density_hi, 0.)\n",
    "\n",
    "plt.plot(smbAnomaly_dh, 'o')\n",
    "plt.plot(smbAnomaly_hi_dh, 'go')\n",
    "plt.plot(smbAnomaly_lo_dh, 'ro')\n",
    "\n",
    "np.abs(smbAnomaly_hi_dh-smbAnomaly_lo_dh)/2. > \\\n",
    "np.where(smbMean<=0., smbAnomalySumError/abl_density, 0.) + np.where(smbMean> 0., smbAnomalySumError/acc_density, 0.)\n"
   ]
  },
  {
   "cell_type": "code",
   "execution_count": 32,
   "metadata": {},
   "outputs": [
    {
     "data": {
      "text/plain": [
       "array([ True,  True,  True,  True,  True,  True,  True,  True,  True])"
      ]
     },
     "execution_count": 32,
     "metadata": {},
     "output_type": "execute_result"
    }
   ],
   "source": [
    "# ALGORITHM 2: calculate all of the different combinations of hi/lo anomaly + hi/lo densities\n",
    "smbAnomaly_hi = smbAnomaly + smbAnomalySumError\n",
    "smbAnomaly_lo = smbAnomaly - smbAnomalySumError\n",
    "\n",
    "smbAnomaly_hi_hihi_dh = np.where(smbMean<=0., smbAnomaly_hi/abl_density_hi, 0.) + np.where(smbMean>0., smbAnomaly_hi/acc_density_hi, 0.)\n",
    "smbAnomaly_hi_lolo_dh = np.where(smbMean<=0., smbAnomaly_hi/abl_density_lo, 0.) + np.where(smbMean>0., smbAnomaly_hi/acc_density_lo, 0.)\n",
    "smbAnomaly_hi_hilo_dh = np.where(smbMean<=0., smbAnomaly_hi/abl_density_hi, 0.) + np.where(smbMean>0., smbAnomaly_hi/acc_density_lo, 0.)\n",
    "smbAnomaly_hi_lohi_dh = np.where(smbMean<=0., smbAnomaly_hi/abl_density_lo, 0.) + np.where(smbMean>0., smbAnomaly_hi/acc_density_hi, 0.)\n",
    "\n",
    "smbAnomaly_lo_hihi_dh = np.where(smbMean<=0., smbAnomaly_lo/abl_density_hi, 0.) + np.where(smbMean>0., smbAnomaly_lo/acc_density_hi, 0.)\n",
    "smbAnomaly_lo_lolo_dh = np.where(smbMean<=0., smbAnomaly_lo/abl_density_lo, 0.) + np.where(smbMean>0., smbAnomaly_lo/acc_density_lo, 0.)\n",
    "smbAnomaly_lo_hilo_dh = np.where(smbMean<=0., smbAnomaly_lo/abl_density_hi, 0.) + np.where(smbMean>0., smbAnomaly_lo/acc_density_lo, 0.)\n",
    "smbAnomaly_lo_lohi_dh = np.where(smbMean<=0., smbAnomaly_lo/abl_density_lo, 0.) + np.where(smbMean>0., smbAnomaly_lo/acc_density_hi, 0.)\n",
    "\n",
    "smbAnomaly_combos = np.vstack( (smbAnomaly_hi_hihi_dh, smbAnomaly_hi_lolo_dh, smbAnomaly_hi_hilo_dh, smbAnomaly_hi_lohi_dh, \\\n",
    "                                smbAnomaly_lo_hihi_dh, smbAnomaly_lo_lolo_dh, smbAnomaly_lo_hilo_dh, smbAnomaly_lo_lohi_dh))\n",
    "\n",
    "(np.amax(smbAnomaly_combos, axis=0) - np.amin(smbAnomaly_combos, axis=0)) / 2. > \\\n",
    "np.where(smbMean<=0., smbAnomalySumError/abl_density, 0.) + np.where(smbMean> 0., smbAnomalySumError/acc_density, 0.)"
   ]
  },
  {
   "cell_type": "code",
   "execution_count": 57,
   "metadata": {},
   "outputs": [
    {
     "data": {
      "text/plain": [
       "array([ True,  True,  True,  True,  True,  True,  True,  True,  True])"
      ]
     },
     "execution_count": 57,
     "metadata": {},
     "output_type": "execute_result"
    }
   ],
   "source": [
    "# ALGORITHM 3: add a percent error on top of the smbAnomalySumError\n",
    "density_percentError = np.where(smbMean<=0., (abl_density_hi-abl_density_lo)/abl_density, 0.) + np.where(smbMean>0., (acc_density_hi-acc_density_lo)/acc_density, 0.)\n",
    "smbAnomalySumError + smbAnomalySumError * density_percentError > \\\n",
    "np.where(smbMean<=0., smbAnomalySumError/abl_density, 0.) + np.where(smbMean> 0., smbAnomalySumError/acc_density, 0.)"
   ]
  }
 ],
 "metadata": {
  "kernelspec": {
   "display_name": "Python 3",
   "language": "python",
   "name": "python3"
  },
  "language_info": {
   "codemirror_mode": {
    "name": "ipython",
    "version": 3
   },
   "file_extension": ".py",
   "mimetype": "text/x-python",
   "name": "python",
   "nbconvert_exporter": "python",
   "pygments_lexer": "ipython3",
   "version": "3.6.6"
  }
 },
 "nbformat": 4,
 "nbformat_minor": 2
}
