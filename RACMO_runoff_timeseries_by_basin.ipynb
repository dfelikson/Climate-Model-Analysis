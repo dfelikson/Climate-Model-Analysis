{
 "cells": [
  {
   "cell_type": "markdown",
   "id": "79079f21-e42a-4318-a7ed-e5f495ffc4cc",
   "metadata": {
    "user_expressions": []
   },
   "source": [
    "# Imports"
   ]
  },
  {
   "cell_type": "code",
   "execution_count": 1,
   "id": "535bdd1f-e90a-442b-9aad-eee0f22b4633",
   "metadata": {
    "tags": []
   },
   "outputs": [],
   "source": [
    "import os, time\n",
    "\n",
    "import s3fs\n",
    "\n",
    "import xarray as xr\n",
    "import rasterio\n",
    "import numpy as np\n",
    "import datetime\n",
    "import matplotlib.pyplot as plt\n",
    "\n",
    "from pyproj import Proj\n",
    "\n",
    "import RasterClipperFunctions\n"
   ]
  },
  {
   "cell_type": "markdown",
   "id": "bb03484f-dc74-42e6-a31a-53f819679b06",
   "metadata": {
    "user_expressions": []
   },
   "source": [
    "# Setup"
   ]
  },
  {
   "cell_type": "code",
   "execution_count": 2,
   "id": "a07c410d-b3f5-44cb-a547-3555a252c39c",
   "metadata": {
    "tags": []
   },
   "outputs": [],
   "source": [
    "# choose basin\n",
    "basin = '12.0'\n",
    "s3_profile = '' # this must be specified ... do not leave this blank\n"
   ]
  },
  {
   "cell_type": "markdown",
   "id": "48436598-9ddf-429f-a857-9ccffffac437",
   "metadata": {
    "user_expressions": []
   },
   "source": [
    "You should not need to change anything below this line."
   ]
  },
  {
   "cell_type": "code",
   "execution_count": 3,
   "id": "87c46241-5b89-4b52-b69a-7cf98ec1af8f",
   "metadata": {
    "tags": []
   },
   "outputs": [],
   "source": [
    "racmo_s3_dir = 's3://gris-outlet-glacier-seasonality-icesat2/Data/RACMO/RACMO2.3p2/*.netcdf4_classic.nc'\n",
    "\n",
    "fs_s3 = s3fs.S3FileSystem(anon=False, profile=s3_profile)\n",
    "racmo_s3_files = fs_s3.glob(racmo_s3_dir)\n"
   ]
  },
  {
   "cell_type": "code",
   "execution_count": 4,
   "id": "ade1e038-b240-4181-a296-53ece0494816",
   "metadata": {
    "tags": []
   },
   "outputs": [
    {
     "name": "stdout",
     "output_type": "stream",
     "text": [
      "Elapsed time:   1.0 sec\n"
     ]
    }
   ],
   "source": [
    "racmo_s3_file = racmo_s3_files[0]\n",
    "\n",
    "start = time.time()\n",
    "\n",
    "f = fs_s3.open(racmo_s3_file, 'rb')\n",
    "ds = xr.open_dataset(f) #, engine='netcdf4')\n",
    "runoff = ds.variables['runoffcorr'] #[:,:,:].to_numpy() #[:,:,:]\n",
    "x = ds.variables['x'].to_numpy() #[:]\n",
    "y = ds.variables['y'].to_numpy() #[:]\n",
    "ds.close()\n",
    "\n",
    "end = time.time()\n",
    "print('Elapsed time: {:5.1f} sec'.format(end-start))\n"
   ]
  },
  {
   "cell_type": "markdown",
   "id": "e0a5bb73-8ef0-4239-b81c-e7329997ba2b",
   "metadata": {
    "tags": [],
    "user_expressions": []
   },
   "source": [
    "# Create mask array\n",
    "We'll use this mask array to extract runoff from RACMO grid cells within our basin"
   ]
  },
  {
   "cell_type": "code",
   "execution_count": 5,
   "id": "2a0bef38-e30c-441e-91e7-244e7b7f4294",
   "metadata": {
    "tags": []
   },
   "outputs": [
    {
     "name": "stderr",
     "output_type": "stream",
     "text": [
      "/home/jovyan/Climate-Model-Analysis/RasterClipperFunctions.py:59: ShapelyDeprecationWarning: The 'cascaded_union()' function is deprecated. Use 'unary_union()' instead.\n",
      "  polyUnion = cascaded_union(polys)\n"
     ]
    }
   ],
   "source": [
    "# Shapefile\n",
    "(xClip, yClip) = RasterClipperFunctions.basinUnionPolygon('gimpbasinspoly/gimpbasinspoly.shp', 'basin='+basin)\n",
    "\n",
    "xm, ym = np.meshgrid(x, y)\n",
    "iStep = x[1] - x[0]\n",
    "\n",
    "geoTransform = (x[0]-iStep/2, iStep, 0, y[-1]+iStep/2, 0, -iStep)\n",
    "maskArray = np.flipud(RasterClipperFunctions.clipImage(np.flipud(np.ones(xm.shape)), xClip, yClip, geoTransform))\n",
    "\n",
    "maskArray_3d = np.broadcast_to(maskArray > 0.5, runoff.shape)\n"
   ]
  },
  {
   "cell_type": "code",
   "execution_count": 6,
   "id": "9f4ac30e-fa32-422d-b39a-af19e10bcb8d",
   "metadata": {
    "tags": []
   },
   "outputs": [],
   "source": [
    "r = np.where(np.any(maskArray==True, axis=1)==True)\n",
    "c = np.where(np.any(maskArray==True, axis=0)==True)\n",
    "mask_ulr = r[0][0]\n",
    "mask_ulc = c[0][0]\n",
    "mask_lrr = r[0][-1]\n",
    "mask_lrc = c[0][-1]\n",
    "\n",
    "maskArray_clipped = maskArray[mask_ulr:mask_lrr,mask_ulc:mask_lrc]\n"
   ]
  },
  {
   "cell_type": "markdown",
   "id": "f29404a9-819a-41ad-b66b-c5e77604b472",
   "metadata": {
    "user_expressions": []
   },
   "source": [
    "# Loop through RACMO files"
   ]
  },
  {
   "cell_type": "markdown",
   "id": "23dbcd38-b94f-4924-a786-12f5d354fdce",
   "metadata": {
    "user_expressions": []
   },
   "source": [
    "This is the method currently in use on the main branch (as of 07/11/2023):"
   ]
  },
  {
   "cell_type": "code",
   "execution_count": 7,
   "id": "1b7530a4-ecff-4896-a490-db90fe386c01",
   "metadata": {
    "tags": []
   },
   "outputs": [
    {
     "name": "stdout",
     "output_type": "stream",
     "text": [
      "gris-outlet-glacier-seasonality-icesat2/Data/RACMO/RACMO2.3p2/runoff.2000_AMJ.BN_RACMO2.3p2_ERA5_3h_FGRN055.1km.DD.netcdf4_classic.nc\n",
      "  -> Elapsed time:  17.6 sec\n",
      "gris-outlet-glacier-seasonality-icesat2/Data/RACMO/RACMO2.3p2/runoff.2000_JAS.BN_RACMO2.3p2_ERA5_3h_FGRN055.1km.DD.netcdf4_classic.nc\n",
      "  -> Elapsed time:  19.6 sec\n",
      "gris-outlet-glacier-seasonality-icesat2/Data/RACMO/RACMO2.3p2/runoff.2000_JFM.BN_RACMO2.3p2_ERA5_3h_FGRN055.1km.DD.netcdf4_classic.nc\n",
      "  -> Elapsed time:  18.7 sec\n",
      "gris-outlet-glacier-seasonality-icesat2/Data/RACMO/RACMO2.3p2/runoff.2000_OND.BN_RACMO2.3p2_ERA5_3h_FGRN055.1km.DD.netcdf4_classic.nc\n",
      "  -> Elapsed time:  17.7 sec\n",
      "gris-outlet-glacier-seasonality-icesat2/Data/RACMO/RACMO2.3p2/runoff.2001_AMJ.BN_RACMO2.3p2_ERA5_3h_FGRN055.1km.DD.netcdf4_classic.nc\n",
      "  -> Elapsed time:  18.4 sec\n",
      "gris-outlet-glacier-seasonality-icesat2/Data/RACMO/RACMO2.3p2/runoff.2001_JAS.BN_RACMO2.3p2_ERA5_3h_FGRN055.1km.DD.netcdf4_classic.nc\n",
      "  -> Elapsed time:  18.1 sec\n",
      "gris-outlet-glacier-seasonality-icesat2/Data/RACMO/RACMO2.3p2/runoff.2001_JFM.BN_RACMO2.3p2_ERA5_3h_FGRN055.1km.DD.netcdf4_classic.nc\n",
      "  -> Elapsed time:  19.2 sec\n",
      "gris-outlet-glacier-seasonality-icesat2/Data/RACMO/RACMO2.3p2/runoff.2001_OND.BN_RACMO2.3p2_ERA5_3h_FGRN055.1km.DD.netcdf4_classic.nc\n",
      "  -> Elapsed time:  18.4 sec\n",
      "gris-outlet-glacier-seasonality-icesat2/Data/RACMO/RACMO2.3p2/runoff.2002_AMJ.BN_RACMO2.3p2_ERA5_3h_FGRN055.1km.DD.netcdf4_classic.nc\n",
      "  -> Elapsed time:  19.7 sec\n",
      "gris-outlet-glacier-seasonality-icesat2/Data/RACMO/RACMO2.3p2/runoff.2002_JAS.BN_RACMO2.3p2_ERA5_3h_FGRN055.1km.DD.netcdf4_classic.nc\n",
      "  -> Elapsed time:  20.1 sec\n",
      "gris-outlet-glacier-seasonality-icesat2/Data/RACMO/RACMO2.3p2/runoff.2002_JFM.BN_RACMO2.3p2_ERA5_3h_FGRN055.1km.DD.netcdf4_classic.nc\n",
      "  -> Elapsed time:  19.6 sec\n",
      "gris-outlet-glacier-seasonality-icesat2/Data/RACMO/RACMO2.3p2/runoff.2002_OND.BN_RACMO2.3p2_ERA5_3h_FGRN055.1km.DD.netcdf4_classic.nc\n",
      "  -> Elapsed time:  18.8 sec\n",
      "gris-outlet-glacier-seasonality-icesat2/Data/RACMO/RACMO2.3p2/runoff.2003_AMJ.BN_RACMO2.3p2_ERA5_3h_FGRN055.1km.DD.netcdf4_classic.nc\n",
      "  -> Elapsed time:  19.4 sec\n",
      "gris-outlet-glacier-seasonality-icesat2/Data/RACMO/RACMO2.3p2/runoff.2003_JAS.BN_RACMO2.3p2_ERA5_3h_FGRN055.1km.DD.netcdf4_classic.nc\n",
      "  -> Elapsed time:  19.1 sec\n",
      "gris-outlet-glacier-seasonality-icesat2/Data/RACMO/RACMO2.3p2/runoff.2003_JFM.BN_RACMO2.3p2_ERA5_3h_FGRN055.1km.DD.netcdf4_classic.nc\n",
      "  -> Elapsed time:  20.1 sec\n",
      "gris-outlet-glacier-seasonality-icesat2/Data/RACMO/RACMO2.3p2/runoff.2003_OND.BN_RACMO2.3p2_ERA5_3h_FGRN055.1km.DD.netcdf4_classic.nc\n",
      "  -> Elapsed time:  18.9 sec\n",
      "gris-outlet-glacier-seasonality-icesat2/Data/RACMO/RACMO2.3p2/runoff.2004_AMJ.BN_RACMO2.3p2_ERA5_3h_FGRN055.1km.DD.netcdf4_classic.nc\n",
      "  -> Elapsed time:  20.1 sec\n",
      "gris-outlet-glacier-seasonality-icesat2/Data/RACMO/RACMO2.3p2/runoff.2004_JAS.BN_RACMO2.3p2_ERA5_3h_FGRN055.1km.DD.netcdf4_classic.nc\n",
      "  -> Elapsed time:  19.9 sec\n",
      "gris-outlet-glacier-seasonality-icesat2/Data/RACMO/RACMO2.3p2/runoff.2004_JFM.BN_RACMO2.3p2_ERA5_3h_FGRN055.1km.DD.netcdf4_classic.nc\n",
      "  -> Elapsed time:  21.0 sec\n",
      "gris-outlet-glacier-seasonality-icesat2/Data/RACMO/RACMO2.3p2/runoff.2004_OND.BN_RACMO2.3p2_ERA5_3h_FGRN055.1km.DD.netcdf4_classic.nc\n",
      "  -> Elapsed time:  20.9 sec\n",
      "gris-outlet-glacier-seasonality-icesat2/Data/RACMO/RACMO2.3p2/runoff.2005_AMJ.BN_RACMO2.3p2_ERA5_3h_FGRN055.1km.DD.netcdf4_classic.nc\n",
      "  -> Elapsed time:  23.6 sec\n",
      "gris-outlet-glacier-seasonality-icesat2/Data/RACMO/RACMO2.3p2/runoff.2005_JAS.BN_RACMO2.3p2_ERA5_3h_FGRN055.1km.DD.netcdf4_classic.nc\n",
      "  -> Elapsed time:  22.4 sec\n",
      "gris-outlet-glacier-seasonality-icesat2/Data/RACMO/RACMO2.3p2/runoff.2005_JFM.BN_RACMO2.3p2_ERA5_3h_FGRN055.1km.DD.netcdf4_classic.nc\n",
      "  -> Elapsed time:  22.1 sec\n",
      "gris-outlet-glacier-seasonality-icesat2/Data/RACMO/RACMO2.3p2/runoff.2005_OND.BN_RACMO2.3p2_ERA5_3h_FGRN055.1km.DD.netcdf4_classic.nc\n",
      "  -> Elapsed time:  22.7 sec\n",
      "gris-outlet-glacier-seasonality-icesat2/Data/RACMO/RACMO2.3p2/runoff.2006_AMJ.BN_RACMO2.3p2_ERA5_3h_FGRN055.1km.DD.netcdf4_classic.nc\n",
      "  -> Elapsed time:  21.4 sec\n",
      "gris-outlet-glacier-seasonality-icesat2/Data/RACMO/RACMO2.3p2/runoff.2006_JAS.BN_RACMO2.3p2_ERA5_3h_FGRN055.1km.DD.netcdf4_classic.nc\n",
      "  -> Elapsed time:  21.1 sec\n",
      "gris-outlet-glacier-seasonality-icesat2/Data/RACMO/RACMO2.3p2/runoff.2006_JFM.BN_RACMO2.3p2_ERA5_3h_FGRN055.1km.DD.netcdf4_classic.nc\n",
      "  -> Elapsed time:  22.4 sec\n",
      "gris-outlet-glacier-seasonality-icesat2/Data/RACMO/RACMO2.3p2/runoff.2006_OND.BN_RACMO2.3p2_ERA5_3h_FGRN055.1km.DD.netcdf4_classic.nc\n",
      "  -> Elapsed time:  22.2 sec\n",
      "gris-outlet-glacier-seasonality-icesat2/Data/RACMO/RACMO2.3p2/runoff.2007_AMJ.BN_RACMO2.3p2_ERA5_3h_FGRN055.1km.DD.netcdf4_classic.nc\n",
      "  -> Elapsed time:  22.2 sec\n",
      "gris-outlet-glacier-seasonality-icesat2/Data/RACMO/RACMO2.3p2/runoff.2007_JAS.BN_RACMO2.3p2_ERA5_3h_FGRN055.1km.DD.netcdf4_classic.nc\n",
      "  -> Elapsed time:  21.7 sec\n",
      "gris-outlet-glacier-seasonality-icesat2/Data/RACMO/RACMO2.3p2/runoff.2007_JFM.BN_RACMO2.3p2_ERA5_3h_FGRN055.1km.DD.netcdf4_classic.nc\n",
      "  -> Elapsed time:  21.7 sec\n",
      "gris-outlet-glacier-seasonality-icesat2/Data/RACMO/RACMO2.3p2/runoff.2007_OND.BN_RACMO2.3p2_ERA5_3h_FGRN055.1km.DD.netcdf4_classic.nc\n",
      "  -> Elapsed time:  22.2 sec\n",
      "gris-outlet-glacier-seasonality-icesat2/Data/RACMO/RACMO2.3p2/runoff.2008_AMJ.BN_RACMO2.3p2_ERA5_3h_FGRN055.1km.DD.netcdf4_classic.nc\n",
      "  -> Elapsed time:  21.5 sec\n",
      "gris-outlet-glacier-seasonality-icesat2/Data/RACMO/RACMO2.3p2/runoff.2008_JAS.BN_RACMO2.3p2_ERA5_3h_FGRN055.1km.DD.netcdf4_classic.nc\n",
      "  -> Elapsed time:  21.2 sec\n",
      "gris-outlet-glacier-seasonality-icesat2/Data/RACMO/RACMO2.3p2/runoff.2008_JFM.BN_RACMO2.3p2_ERA5_3h_FGRN055.1km.DD.netcdf4_classic.nc\n",
      "  -> Elapsed time:  21.7 sec\n",
      "gris-outlet-glacier-seasonality-icesat2/Data/RACMO/RACMO2.3p2/runoff.2008_OND.BN_RACMO2.3p2_ERA5_3h_FGRN055.1km.DD.netcdf4_classic.nc\n",
      "  -> Elapsed time:  22.0 sec\n",
      "gris-outlet-glacier-seasonality-icesat2/Data/RACMO/RACMO2.3p2/runoff.2009_AMJ.BN_RACMO2.3p2_ERA5_3h_FGRN055.1km.DD.netcdf4_classic.nc\n",
      "  -> Elapsed time:  20.2 sec\n",
      "gris-outlet-glacier-seasonality-icesat2/Data/RACMO/RACMO2.3p2/runoff.2009_JAS.BN_RACMO2.3p2_ERA5_3h_FGRN055.1km.DD.netcdf4_classic.nc\n",
      "  -> Elapsed time:  20.3 sec\n",
      "gris-outlet-glacier-seasonality-icesat2/Data/RACMO/RACMO2.3p2/runoff.2009_JFM.BN_RACMO2.3p2_ERA5_3h_FGRN055.1km.DD.netcdf4_classic.nc\n",
      "  -> Elapsed time:  21.5 sec\n",
      "gris-outlet-glacier-seasonality-icesat2/Data/RACMO/RACMO2.3p2/runoff.2009_OND.BN_RACMO2.3p2_ERA5_3h_FGRN055.1km.DD.netcdf4_classic.nc\n",
      "  -> Elapsed time:  20.1 sec\n",
      "gris-outlet-glacier-seasonality-icesat2/Data/RACMO/RACMO2.3p2/runoff.2010_AMJ.BN_RACMO2.3p2_ERA5_3h_FGRN055.1km.DD.netcdf4_classic.nc\n",
      "  -> Elapsed time:  21.9 sec\n",
      "gris-outlet-glacier-seasonality-icesat2/Data/RACMO/RACMO2.3p2/runoff.2010_JAS.BN_RACMO2.3p2_ERA5_3h_FGRN055.1km.DD.netcdf4_classic.nc\n",
      "  -> Elapsed time:  19.8 sec\n",
      "gris-outlet-glacier-seasonality-icesat2/Data/RACMO/RACMO2.3p2/runoff.2010_JFM.BN_RACMO2.3p2_ERA5_3h_FGRN055.1km.DD.netcdf4_classic.nc\n",
      "  -> Elapsed time:  22.0 sec\n",
      "gris-outlet-glacier-seasonality-icesat2/Data/RACMO/RACMO2.3p2/runoff.2010_OND.BN_RACMO2.3p2_ERA5_3h_FGRN055.1km.DD.netcdf4_classic.nc\n",
      "  -> Elapsed time:  21.1 sec\n",
      "gris-outlet-glacier-seasonality-icesat2/Data/RACMO/RACMO2.3p2/runoff.2011_AMJ.BN_RACMO2.3p2_ERA5_3h_FGRN055.1km.DD.netcdf4_classic.nc\n",
      "  -> Elapsed time:  22.9 sec\n",
      "gris-outlet-glacier-seasonality-icesat2/Data/RACMO/RACMO2.3p2/runoff.2011_JAS.BN_RACMO2.3p2_ERA5_3h_FGRN055.1km.DD.netcdf4_classic.nc\n",
      "  -> Elapsed time:  21.9 sec\n",
      "gris-outlet-glacier-seasonality-icesat2/Data/RACMO/RACMO2.3p2/runoff.2011_JFM.BN_RACMO2.3p2_ERA5_3h_FGRN055.1km.DD.netcdf4_classic.nc\n",
      "  -> Elapsed time:  21.4 sec\n",
      "gris-outlet-glacier-seasonality-icesat2/Data/RACMO/RACMO2.3p2/runoff.2011_OND.BN_RACMO2.3p2_ERA5_3h_FGRN055.1km.DD.netcdf4_classic.nc\n",
      "  -> Elapsed time:  21.8 sec\n",
      "gris-outlet-glacier-seasonality-icesat2/Data/RACMO/RACMO2.3p2/runoff.2012_AMJ.BN_RACMO2.3p2_ERA5_3h_FGRN055.1km.DD.netcdf4_classic.nc\n",
      "  -> Elapsed time:  20.8 sec\n",
      "gris-outlet-glacier-seasonality-icesat2/Data/RACMO/RACMO2.3p2/runoff.2012_JAS.BN_RACMO2.3p2_ERA5_3h_FGRN055.1km.DD.netcdf4_classic.nc\n",
      "  -> Elapsed time:  19.9 sec\n",
      "gris-outlet-glacier-seasonality-icesat2/Data/RACMO/RACMO2.3p2/runoff.2012_JFM.BN_RACMO2.3p2_ERA5_3h_FGRN055.1km.DD.netcdf4_classic.nc\n",
      "  -> Elapsed time:  20.5 sec\n",
      "gris-outlet-glacier-seasonality-icesat2/Data/RACMO/RACMO2.3p2/runoff.2012_OND.BN_RACMO2.3p2_ERA5_3h_FGRN055.1km.DD.netcdf4_classic.nc\n",
      "  -> Elapsed time:  22.4 sec\n",
      "gris-outlet-glacier-seasonality-icesat2/Data/RACMO/RACMO2.3p2/runoff.2013_AMJ.BN_RACMO2.3p2_ERA5_3h_FGRN055.1km.DD.netcdf4_classic.nc\n",
      "  -> Elapsed time:  20.5 sec\n",
      "gris-outlet-glacier-seasonality-icesat2/Data/RACMO/RACMO2.3p2/runoff.2013_JAS.BN_RACMO2.3p2_ERA5_3h_FGRN055.1km.DD.netcdf4_classic.nc\n",
      "  -> Elapsed time:  20.4 sec\n",
      "gris-outlet-glacier-seasonality-icesat2/Data/RACMO/RACMO2.3p2/runoff.2013_JFM.BN_RACMO2.3p2_ERA5_3h_FGRN055.1km.DD.netcdf4_classic.nc\n",
      "  -> Elapsed time:  21.5 sec\n",
      "gris-outlet-glacier-seasonality-icesat2/Data/RACMO/RACMO2.3p2/runoff.2013_OND.BN_RACMO2.3p2_ERA5_3h_FGRN055.1km.DD.netcdf4_classic.nc\n",
      "  -> Elapsed time:  20.6 sec\n",
      "gris-outlet-glacier-seasonality-icesat2/Data/RACMO/RACMO2.3p2/runoff.2014_AMJ.BN_RACMO2.3p2_ERA5_3h_FGRN055.1km.DD.netcdf4_classic.nc\n",
      "  -> Elapsed time:  20.8 sec\n",
      "gris-outlet-glacier-seasonality-icesat2/Data/RACMO/RACMO2.3p2/runoff.2014_JAS.BN_RACMO2.3p2_ERA5_3h_FGRN055.1km.DD.netcdf4_classic.nc\n",
      "  -> Elapsed time:  21.7 sec\n",
      "gris-outlet-glacier-seasonality-icesat2/Data/RACMO/RACMO2.3p2/runoff.2014_JFM.BN_RACMO2.3p2_ERA5_3h_FGRN055.1km.DD.netcdf4_classic.nc\n",
      "  -> Elapsed time:  21.1 sec\n",
      "gris-outlet-glacier-seasonality-icesat2/Data/RACMO/RACMO2.3p2/runoff.2014_OND.BN_RACMO2.3p2_ERA5_3h_FGRN055.1km.DD.netcdf4_classic.nc\n",
      "  -> Elapsed time:  21.9 sec\n",
      "gris-outlet-glacier-seasonality-icesat2/Data/RACMO/RACMO2.3p2/runoff.2015_AMJ.BN_RACMO2.3p2_ERA5_3h_FGRN055.1km.DD.netcdf4_classic.nc\n",
      "  -> Elapsed time:  21.6 sec\n",
      "gris-outlet-glacier-seasonality-icesat2/Data/RACMO/RACMO2.3p2/runoff.2015_JAS.BN_RACMO2.3p2_ERA5_3h_FGRN055.1km.DD.netcdf4_classic.nc\n",
      "  -> Elapsed time:  21.4 sec\n",
      "gris-outlet-glacier-seasonality-icesat2/Data/RACMO/RACMO2.3p2/runoff.2015_JFM.BN_RACMO2.3p2_ERA5_3h_FGRN055.1km.DD.netcdf4_classic.nc\n",
      "  -> Elapsed time:  22.1 sec\n",
      "gris-outlet-glacier-seasonality-icesat2/Data/RACMO/RACMO2.3p2/runoff.2015_OND.BN_RACMO2.3p2_ERA5_3h_FGRN055.1km.DD.netcdf4_classic.nc\n",
      "  -> Elapsed time:  21.3 sec\n",
      "gris-outlet-glacier-seasonality-icesat2/Data/RACMO/RACMO2.3p2/runoff.2016_AMJ.BN_RACMO2.3p2_ERA5_3h_FGRN055.1km.DD.netcdf4_classic.nc\n",
      "  -> Elapsed time:  21.3 sec\n",
      "gris-outlet-glacier-seasonality-icesat2/Data/RACMO/RACMO2.3p2/runoff.2016_JAS.BN_RACMO2.3p2_ERA5_3h_FGRN055.1km.DD.netcdf4_classic.nc\n",
      "  -> Elapsed time:  22.1 sec\n",
      "gris-outlet-glacier-seasonality-icesat2/Data/RACMO/RACMO2.3p2/runoff.2016_JFM.BN_RACMO2.3p2_ERA5_3h_FGRN055.1km.DD.netcdf4_classic.nc\n",
      "  -> Elapsed time:  21.3 sec\n",
      "gris-outlet-glacier-seasonality-icesat2/Data/RACMO/RACMO2.3p2/runoff.2016_OND.BN_RACMO2.3p2_ERA5_3h_FGRN055.1km.DD.netcdf4_classic.nc\n",
      "  -> Elapsed time:  22.9 sec\n",
      "gris-outlet-glacier-seasonality-icesat2/Data/RACMO/RACMO2.3p2/runoff.2017_AMJ.BN_RACMO2.3p2_ERA5_3h_FGRN055.1km.DD.netcdf4_classic.nc\n",
      "  -> Elapsed time:  22.0 sec\n",
      "gris-outlet-glacier-seasonality-icesat2/Data/RACMO/RACMO2.3p2/runoff.2017_JAS.BN_RACMO2.3p2_ERA5_3h_FGRN055.1km.DD.netcdf4_classic.nc\n",
      "  -> Elapsed time:  21.8 sec\n",
      "gris-outlet-glacier-seasonality-icesat2/Data/RACMO/RACMO2.3p2/runoff.2017_JFM.BN_RACMO2.3p2_ERA5_3h_FGRN055.1km.DD.netcdf4_classic.nc\n",
      "  -> Elapsed time:  22.5 sec\n",
      "gris-outlet-glacier-seasonality-icesat2/Data/RACMO/RACMO2.3p2/runoff.2017_OND.BN_RACMO2.3p2_ERA5_3h_FGRN055.1km.DD.netcdf4_classic.nc\n",
      "  -> Elapsed time:  21.9 sec\n",
      "gris-outlet-glacier-seasonality-icesat2/Data/RACMO/RACMO2.3p2/runoff.2018_AMJ.BN_RACMO2.3p2_ERA5_3h_FGRN055.1km.DD.netcdf4_classic.nc\n",
      "  -> Elapsed time:  23.6 sec\n",
      "gris-outlet-glacier-seasonality-icesat2/Data/RACMO/RACMO2.3p2/runoff.2018_JAS.BN_RACMO2.3p2_ERA5_3h_FGRN055.1km.DD.netcdf4_classic.nc\n",
      "  -> Elapsed time:  22.9 sec\n",
      "gris-outlet-glacier-seasonality-icesat2/Data/RACMO/RACMO2.3p2/runoff.2018_JFM.BN_RACMO2.3p2_ERA5_3h_FGRN055.1km.DD.netcdf4_classic.nc\n",
      "  -> Elapsed time:  21.6 sec\n",
      "gris-outlet-glacier-seasonality-icesat2/Data/RACMO/RACMO2.3p2/runoff.2018_OND.BN_RACMO2.3p2_ERA5_3h_FGRN055.1km.DD.netcdf4_classic.nc\n",
      "  -> Elapsed time:  21.3 sec\n",
      "gris-outlet-glacier-seasonality-icesat2/Data/RACMO/RACMO2.3p2/runoff.2019_AMJ.BN_RACMO2.3p2_ERA5_3h_FGRN055.1km.DD.netcdf4_classic.nc\n",
      "  -> Elapsed time:  22.7 sec\n",
      "gris-outlet-glacier-seasonality-icesat2/Data/RACMO/RACMO2.3p2/runoff.2019_JAS.BN_RACMO2.3p2_ERA5_3h_FGRN055.1km.DD.netcdf4_classic.nc\n",
      "  -> Elapsed time:  21.4 sec\n",
      "gris-outlet-glacier-seasonality-icesat2/Data/RACMO/RACMO2.3p2/runoff.2019_JFM.BN_RACMO2.3p2_ERA5_3h_FGRN055.1km.DD.netcdf4_classic.nc\n",
      "  -> Elapsed time:  25.1 sec\n",
      "gris-outlet-glacier-seasonality-icesat2/Data/RACMO/RACMO2.3p2/runoff.2019_OND.BN_RACMO2.3p2_ERA5_3h_FGRN055.1km.DD.netcdf4_classic.nc\n",
      "  -> Elapsed time:  23.5 sec\n",
      "gris-outlet-glacier-seasonality-icesat2/Data/RACMO/RACMO2.3p2/runoff.2020_AMJ.BN_RACMO2.3p2_ERA5_3h_FGRN055.1km.DD.netcdf4_classic.nc\n",
      "  -> Elapsed time:  22.0 sec\n",
      "gris-outlet-glacier-seasonality-icesat2/Data/RACMO/RACMO2.3p2/runoff.2020_JAS.BN_RACMO2.3p2_ERA5_3h_FGRN055.1km.DD.netcdf4_classic.nc\n",
      "  -> Elapsed time:   7.6 sec\n",
      "gris-outlet-glacier-seasonality-icesat2/Data/RACMO/RACMO2.3p2/runoff.2020_JFM.BN_RACMO2.3p2_ERA5_3h_FGRN055.1km.DD.netcdf4_classic.nc\n",
      "  -> Elapsed time:  21.9 sec\n",
      "gris-outlet-glacier-seasonality-icesat2/Data/RACMO/RACMO2.3p2/runoff.2020_OND.BN_RACMO2.3p2_ERA5_3h_FGRN055.1km.DD.netcdf4_classic.nc\n",
      "  -> Elapsed time:  23.1 sec\n",
      "gris-outlet-glacier-seasonality-icesat2/Data/RACMO/RACMO2.3p2/runoff.2021_AMJ.BN_RACMO2.3p2_ERA5_3h_FGRN055.1km.DD.netcdf4_classic.nc\n",
      "  -> Elapsed time:  20.8 sec\n",
      "gris-outlet-glacier-seasonality-icesat2/Data/RACMO/RACMO2.3p2/runoff.2021_JAS.BN_RACMO2.3p2_ERA5_3h_FGRN055.1km.DD.netcdf4_classic.nc\n",
      "  -> Elapsed time:  21.9 sec\n",
      "gris-outlet-glacier-seasonality-icesat2/Data/RACMO/RACMO2.3p2/runoff.2021_JFM.BN_RACMO2.3p2_ERA5_3h_FGRN055.1km.DD.netcdf4_classic.nc\n",
      "  -> Elapsed time:  22.1 sec\n",
      "gris-outlet-glacier-seasonality-icesat2/Data/RACMO/RACMO2.3p2/runoff.2021_OND.BN_RACMO2.3p2_ERA5_3h_FGRN055.1km.DD.netcdf4_classic.nc\n",
      "  -> Elapsed time:  21.6 sec\n"
     ]
    }
   ],
   "source": [
    "runoff_dts = list()\n",
    "dt = datetime.date(int(2000), int(1), int(1))\n",
    "while dt <= datetime.date(int(2021), int(12), int(31)):\n",
    "    runoff_dts.append(dt)\n",
    "    dt += datetime.timedelta(days=1)\n",
    "\n",
    "runoff_dts = list()\n",
    "\n",
    "#runoffSum = np.nan * np.zeros(len(racmo_s3_files))\n",
    "runoffSum = np.nan * np.zeros( 9999 )\n",
    "idx = 0\n",
    "for racmo_s3_file in racmo_s3_files:\n",
    "    print(racmo_s3_file)\n",
    "    f = fs_s3.open(racmo_s3_file, 'rb')\n",
    "    ds = xr.open_dataset(f) #, engine='netcdf4')\n",
    "    \n",
    "    start = time.time()\n",
    "    runoff = ds.variables['runoffcorr'][:,mask_ulr:mask_lrr,mask_ulc:mask_lrc].to_numpy()\n",
    "    maskArray_3d = np.broadcast_to(maskArray_clipped > 0.5, runoff.shape)\n",
    "    runoffSum[idx:idx+runoff.shape[0]] = np.nansum(np.where(maskArray_3d, runoff, np.nan), axis=(1,2))\n",
    "    runoff_dts.extend(ds.variables['time'].to_numpy())\n",
    "    ds.close()\n",
    "    print('  -> Elapsed time: {:5.1f} sec'.format(time.time()-start))\n",
    "    \n",
    "    idx += runoff.shape[0]\n",
    "    \n",
    "# Change units from mm w.e. to m3 per day\n",
    "runoffSum_m3 = (runoffSum/1000.)*1000.*1000.\n"
   ]
  },
  {
   "cell_type": "code",
   "execution_count": null,
   "id": "652447d0-786d-4118-8a52-37e5a0bf2589",
   "metadata": {},
   "outputs": [],
   "source": [
    "# Alternate method 1\n",
    "racmo_s3_file = 's3://gris-outlet-glacier-seasonality-icesat2/Data/RACMO/RACMO2.3p2/runoff.2000_AMJ.BN_RACMO2.3p2_ERA5_3h_FGRN055.1km.DD.netcdf4_classic.nc'\n",
    "\n",
    "start = time.time()\n",
    "\n",
    "f = fs_s3.open(racmo_s3_file, 'rb')\n",
    "ds = xr.open_dataset(f) #, engine='netcdf4')\n",
    "runoff = ds.variables['runoffcorr'].to_numpy()\n",
    "runoffSum[i] = np.nansum(np.where(maskArray > 0.5, np.sum(runoff, axis=0), np.nan))\n",
    "maskArray_3d = np.broadcast_to(maskArray > 0.5, runoff.shape)\n",
    "runoffSum[idx:idx+runoff.shape[0]] = np.nansum(np.where(maskArray_3d, runoff, np.nan), axis=(1,2))\n",
    "\n",
    "print(time.time()-start)\n",
    "\n",
    "ds.close()\n"
   ]
  },
  {
   "cell_type": "code",
   "execution_count": null,
   "id": "94f8832b-2bce-4205-ba33-53b4243d8e40",
   "metadata": {},
   "outputs": [],
   "source": [
    "# Alternate method 2\n",
    "racmo_s3_file = 's3://gris-outlet-glacier-seasonality-icesat2/Data/RACMO/RACMO2.3p2/runoff.2000_AMJ.BN_RACMO2.3p2_ERA5_3h_FGRN055.1km.DD.netcdf4_classic.nc'\n",
    "\n",
    "start = time.time()\n",
    "\n",
    "f = fs_s3.open(racmo_s3_file, 'rb')\n",
    "ds = xr.open_dataset(f) #, engine='netcdf4')\n",
    "\n",
    "maskArray_3d = np.broadcast_to(maskArray_clipped > 0.5, runoff.shape)\n",
    "runoff = ds.variables['runoffcorr'][:,mask_ulr:mask_lrr,mask_ulc:mask_lrc].to_numpy()\n",
    "np.nansum(np.where(maskArray_3d, runoff, np.nan), axis=(1,2))\n",
    "\n",
    "print('Elapsed time: {:4.1f} sec'.format(time.time()-start))\n"
   ]
  },
  {
   "cell_type": "code",
   "execution_count": 8,
   "id": "797f8d8d-787e-4a20-b004-9bc0638e476e",
   "metadata": {
    "tags": []
   },
   "outputs": [],
   "source": [
    "if not os.path.exists('output'):\n",
    "    os.makedirs('output')\n",
    "\n",
    "n = len(runoff_dts)\n",
    "runoffSum_m3 = runoffSum_m3[:n]\n",
    "\n",
    "runoff_dts = np.array(runoff_dts)\n",
    "\n",
    "# Sort by time\n",
    "idx = np.argsort(runoff_dts)\n",
    "runoff_dts = runoff_dts[idx]\n",
    "runoffSum_m3 = runoffSum_m3[idx]\n",
    "\n",
    "runoff_years = runoff_dts.astype('datetime64[Y]').astype(int) + 1970\n",
    "runoff_months = runoff_dts.astype('datetime64[M]').astype(int) % 12 + 1\n",
    "runoff_days = runoff_dts - runoff_dts.astype('datetime64[M]') + 1\n",
    "\n",
    "# Save output file - daily\n",
    "f = open('output/'+basin+'_runoff_daily.csv', 'w')\n",
    "for i, dt in enumerate(runoff_dts):\n",
    "    f.write('{:4d}, {:2d}, {:2s}, {:10.2f}\\n'.format(runoff_years[i], runoff_months[i], runoff_dts[i].astype(str)[8:10], runoffSum_m3[i]))\n",
    "f.close()\n",
    "\n",
    "# Sum over months\n",
    "runoff_monthly_m3 = list()\n",
    "for year in np.arange(2000,2022):\n",
    "    for month in np.arange(1,13):\n",
    "        idx = np.where(np.logical_and(runoff_years==year, runoff_months==month))\n",
    "        runoff_monthly_m3.append(np.sum(runoffSum_m3[idx]))\n",
    "        \n",
    "# Save output file - monthly\n",
    "f = open('output/'+basin+'_runoff_monthly.csv', 'w')\n",
    "i = 0\n",
    "for year in np.arange(2000,2022):\n",
    "    for month in np.arange(1,13):\n",
    "        f.write('{:4d}, {:2d}, {:10.2f}\\n'.format(year, month, runoff_monthly_m3[i]))\n",
    "        i += 1\n",
    "f.close()\n"
   ]
  },
  {
   "cell_type": "code",
   "execution_count": null,
   "id": "69e020bb-3051-42c4-a2a7-cf3d823cff3b",
   "metadata": {},
   "outputs": [],
   "source": []
  },
  {
   "cell_type": "markdown",
   "id": "93eabc3d-9c78-4b8c-82bf-9d5c8e977c25",
   "metadata": {
    "tags": []
   },
   "source": [
    "# Experimental code"
   ]
  },
  {
   "cell_type": "code",
   "execution_count": null,
   "id": "6bec26f9-82d8-4e57-bc3d-8a2d2381373b",
   "metadata": {
    "tags": []
   },
   "outputs": [],
   "source": [
    "from kerchunk.hdf import SingleHdf5ToZarr \n",
    "from kerchunk.combine import MultiZarrToZarr\n",
    "\n",
    "import dask\n",
    "from dask.distributed import Client\n",
    "client = Client(n_workers=8)\n",
    "client\n"
   ]
  },
  {
   "cell_type": "code",
   "execution_count": null,
   "id": "c79ffd8b-7081-481c-a83f-6c21b4900bc9",
   "metadata": {
    "tags": []
   },
   "outputs": [],
   "source": [
    "def gen_json(u):\n",
    "    so = dict(\n",
    "        mode=\"rb\", anon=True, default_fill_cache=False,\n",
    "        default_cache_type=\"none\"\n",
    "    )\n",
    "    with fs_s3.open(u, **so) as inf:\n",
    "        h5chunks = SingleHdf5ToZarr(inf, u, inline_threshold=300)\n",
    "        with open(f\"jsons/{u.split('/')[-1]}.json\", 'wb') as outf:\n",
    "           outf.write(ujson.dumps(h5chunks.translate()).encode())\n",
    "        "
   ]
  },
  {
   "cell_type": "code",
   "execution_count": null,
   "id": "c73b5968-53ea-4605-9575-1bdedadb1d5b",
   "metadata": {
    "tags": []
   },
   "outputs": [],
   "source": [
    "gen_json('s3://' + racmo_s3_files[0])\n"
   ]
  },
  {
   "cell_type": "code",
   "execution_count": null,
   "id": "03231eee-0115-468a-8bae-332f9a27bc52",
   "metadata": {
    "tags": []
   },
   "outputs": [],
   "source": [
    "import pathlib\n",
    "pathlib.Path('./jsons/').mkdir(exist_ok=True)\n",
    "dask.compute(*[dask.delayed(gen_json)('s3://' + u) for u in racmo_s3_files])\n"
   ]
  },
  {
   "cell_type": "code",
   "execution_count": null,
   "id": "cb970e2f-1ee8-4533-a892-b61310b900fc",
   "metadata": {},
   "outputs": [],
   "source": [
    "from functools import partial\n",
    "\n",
    "def _preprocess(array, mask):\n",
    "    return array[:,:10,:10]\n",
    "\n",
    "partial_func = partial(_preprocess, mask=maskArray)\n",
    "#ds = xr.open_mfdataset(\"file_*.nc\", concat_dim=\"time\", preprocess=partial_func)  \n",
    "\n",
    "f = fs_s3.open(racmo_s3_file, 'rb')\n",
    "ds = xr.open_mfdataset(f, preprocess=partial_func)"
   ]
  },
  {
   "cell_type": "code",
   "execution_count": null,
   "id": "cdd06681-05b0-4623-ac7a-2b516c16426d",
   "metadata": {
    "tags": []
   },
   "outputs": [],
   "source": [
    "ds"
   ]
  },
  {
   "cell_type": "markdown",
   "id": "3c48b3b8-214d-4462-a5fb-bd55081ea6df",
   "metadata": {
    "user_expressions": []
   },
   "source": [
    "## Dask"
   ]
  },
  {
   "cell_type": "code",
   "execution_count": 16,
   "id": "7377c00c-dddd-4402-b510-3349aa7dafb4",
   "metadata": {
    "tags": []
   },
   "outputs": [
    {
     "data": {
      "text/html": [
       "<div>\n",
       "    <div style=\"width: 24px; height: 24px; background-color: #e1e1e1; border: 3px solid #9D9D9D; border-radius: 5px; position: absolute;\"> </div>\n",
       "    <div style=\"margin-left: 48px;\">\n",
       "        <h3 style=\"margin-bottom: 0px;\">Client</h3>\n",
       "        <p style=\"color: #9D9D9D; margin-bottom: 0px;\">Client-4fd3606e-139c-11ee-8065-d2b42af58979</p>\n",
       "        <table style=\"width: 100%; text-align: left;\">\n",
       "\n",
       "        <tr>\n",
       "        \n",
       "            <td style=\"text-align: left;\"><strong>Connection method:</strong> Cluster object</td>\n",
       "            <td style=\"text-align: left;\"><strong>Cluster type:</strong> distributed.LocalCluster</td>\n",
       "        \n",
       "        </tr>\n",
       "\n",
       "        \n",
       "            <tr>\n",
       "                <td style=\"text-align: left;\">\n",
       "                    <strong>Dashboard: </strong> <a href=\"/user/dfelikson/proxy/8787/status\" target=\"_blank\">/user/dfelikson/proxy/8787/status</a>\n",
       "                </td>\n",
       "                <td style=\"text-align: left;\"></td>\n",
       "            </tr>\n",
       "        \n",
       "\n",
       "        </table>\n",
       "\n",
       "        \n",
       "            <button style=\"margin-bottom: 12px;\" data-commandlinker-command=\"dask:populate-and-launch-layout\" data-commandlinker-args='{\"url\": \"/user/dfelikson/proxy/8787/status\" }'>\n",
       "                Launch dashboard in JupyterLab\n",
       "            </button>\n",
       "        \n",
       "\n",
       "        \n",
       "            <details>\n",
       "            <summary style=\"margin-bottom: 20px;\"><h3 style=\"display: inline;\">Cluster Info</h3></summary>\n",
       "            <div class=\"jp-RenderedHTMLCommon jp-RenderedHTML jp-mod-trusted jp-OutputArea-output\">\n",
       "    <div style=\"width: 24px; height: 24px; background-color: #e1e1e1; border: 3px solid #9D9D9D; border-radius: 5px; position: absolute;\">\n",
       "    </div>\n",
       "    <div style=\"margin-left: 48px;\">\n",
       "        <h3 style=\"margin-bottom: 0px; margin-top: 0px;\">LocalCluster</h3>\n",
       "        <p style=\"color: #9D9D9D; margin-bottom: 0px;\">1b8ea4f2</p>\n",
       "        <table style=\"width: 100%; text-align: left;\">\n",
       "            <tr>\n",
       "                <td style=\"text-align: left;\">\n",
       "                    <strong>Dashboard:</strong> <a href=\"/user/dfelikson/proxy/8787/status\" target=\"_blank\">/user/dfelikson/proxy/8787/status</a>\n",
       "                </td>\n",
       "                <td style=\"text-align: left;\">\n",
       "                    <strong>Workers:</strong> 1\n",
       "                </td>\n",
       "            </tr>\n",
       "            <tr>\n",
       "                <td style=\"text-align: left;\">\n",
       "                    <strong>Total threads:</strong> 4\n",
       "                </td>\n",
       "                <td style=\"text-align: left;\">\n",
       "                    <strong>Total memory:</strong> 30.90 GiB\n",
       "                </td>\n",
       "            </tr>\n",
       "            \n",
       "            <tr>\n",
       "    <td style=\"text-align: left;\"><strong>Status:</strong> running</td>\n",
       "    <td style=\"text-align: left;\"><strong>Using processes:</strong> True</td>\n",
       "</tr>\n",
       "\n",
       "            \n",
       "        </table>\n",
       "\n",
       "        <details>\n",
       "            <summary style=\"margin-bottom: 20px;\">\n",
       "                <h3 style=\"display: inline;\">Scheduler Info</h3>\n",
       "            </summary>\n",
       "\n",
       "            <div style=\"\">\n",
       "    <div>\n",
       "        <div style=\"width: 24px; height: 24px; background-color: #FFF7E5; border: 3px solid #FF6132; border-radius: 5px; position: absolute;\"> </div>\n",
       "        <div style=\"margin-left: 48px;\">\n",
       "            <h3 style=\"margin-bottom: 0px;\">Scheduler</h3>\n",
       "            <p style=\"color: #9D9D9D; margin-bottom: 0px;\">Scheduler-826f45a8-57cb-4b2e-b598-347b342c3a34</p>\n",
       "            <table style=\"width: 100%; text-align: left;\">\n",
       "                <tr>\n",
       "                    <td style=\"text-align: left;\">\n",
       "                        <strong>Comm:</strong> tcp://127.0.0.1:46389\n",
       "                    </td>\n",
       "                    <td style=\"text-align: left;\">\n",
       "                        <strong>Workers:</strong> 1\n",
       "                    </td>\n",
       "                </tr>\n",
       "                <tr>\n",
       "                    <td style=\"text-align: left;\">\n",
       "                        <strong>Dashboard:</strong> <a href=\"/user/dfelikson/proxy/8787/status\" target=\"_blank\">/user/dfelikson/proxy/8787/status</a>\n",
       "                    </td>\n",
       "                    <td style=\"text-align: left;\">\n",
       "                        <strong>Total threads:</strong> 4\n",
       "                    </td>\n",
       "                </tr>\n",
       "                <tr>\n",
       "                    <td style=\"text-align: left;\">\n",
       "                        <strong>Started:</strong> Just now\n",
       "                    </td>\n",
       "                    <td style=\"text-align: left;\">\n",
       "                        <strong>Total memory:</strong> 30.90 GiB\n",
       "                    </td>\n",
       "                </tr>\n",
       "            </table>\n",
       "        </div>\n",
       "    </div>\n",
       "\n",
       "    <details style=\"margin-left: 48px;\">\n",
       "        <summary style=\"margin-bottom: 20px;\">\n",
       "            <h3 style=\"display: inline;\">Workers</h3>\n",
       "        </summary>\n",
       "\n",
       "        \n",
       "        <div style=\"margin-bottom: 20px;\">\n",
       "            <div style=\"width: 24px; height: 24px; background-color: #DBF5FF; border: 3px solid #4CC9FF; border-radius: 5px; position: absolute;\"> </div>\n",
       "            <div style=\"margin-left: 48px;\">\n",
       "            <details>\n",
       "                <summary>\n",
       "                    <h4 style=\"margin-bottom: 0px; display: inline;\">Worker: 0</h4>\n",
       "                </summary>\n",
       "                <table style=\"width: 100%; text-align: left;\">\n",
       "                    <tr>\n",
       "                        <td style=\"text-align: left;\">\n",
       "                            <strong>Comm: </strong> tcp://127.0.0.1:42999\n",
       "                        </td>\n",
       "                        <td style=\"text-align: left;\">\n",
       "                            <strong>Total threads: </strong> 4\n",
       "                        </td>\n",
       "                    </tr>\n",
       "                    <tr>\n",
       "                        <td style=\"text-align: left;\">\n",
       "                            <strong>Dashboard: </strong> <a href=\"/user/dfelikson/proxy/41721/status\" target=\"_blank\">/user/dfelikson/proxy/41721/status</a>\n",
       "                        </td>\n",
       "                        <td style=\"text-align: left;\">\n",
       "                            <strong>Memory: </strong> 30.90 GiB\n",
       "                        </td>\n",
       "                    </tr>\n",
       "                    <tr>\n",
       "                        <td style=\"text-align: left;\">\n",
       "                            <strong>Nanny: </strong> tcp://127.0.0.1:38601\n",
       "                        </td>\n",
       "                        <td style=\"text-align: left;\"></td>\n",
       "                    </tr>\n",
       "                    <tr>\n",
       "                        <td colspan=\"2\" style=\"text-align: left;\">\n",
       "                            <strong>Local directory: </strong> /tmp/dask-worker-space/worker-xf0_3jen\n",
       "                        </td>\n",
       "                    </tr>\n",
       "\n",
       "                    \n",
       "\n",
       "                    \n",
       "\n",
       "                </table>\n",
       "            </details>\n",
       "            </div>\n",
       "        </div>\n",
       "        \n",
       "\n",
       "    </details>\n",
       "</div>\n",
       "\n",
       "        </details>\n",
       "    </div>\n",
       "</div>\n",
       "            </details>\n",
       "        \n",
       "\n",
       "    </div>\n",
       "</div>"
      ],
      "text/plain": [
       "<Client: 'tcp://127.0.0.1:46389' processes=1 threads=4, memory=30.90 GiB>"
      ]
     },
     "execution_count": 16,
     "metadata": {},
     "output_type": "execute_result"
    }
   ],
   "source": [
    "from dask.distributed import Client, progress\n",
    "client = Client(threads_per_worker=4, n_workers=1)\n",
    "client"
   ]
  },
  {
   "cell_type": "code",
   "execution_count": 27,
   "id": "e9fd1aa9-4b26-4742-9f03-05f191307b97",
   "metadata": {
    "tags": []
   },
   "outputs": [],
   "source": [
    "import time\n",
    "import random\n",
    "\n",
    "def runoff_sum_within_basin(racmo_s3_file, mask_ulr, mask_lrr,mask_ulc, mask_lrc, maskArray_clipped):\n",
    "    f = fs_s3.open(racmo_s3_file, 'rb')\n",
    "    ds = xr.open_dataset(f) #, engine='netcdf4')\n",
    "    \n",
    "    runoff = ds.variables['runoffcorr'][:,mask_ulr:mask_lrr,mask_ulc:mask_lrc].to_numpy()\n",
    "    maskArray_3d = np.broadcast_to(maskArray_clipped > 0.5, runoff.shape)\n",
    "    \n",
    "    return np.nansum(np.where(maskArray_3d, runoff, np.nan), axis=(1,2))"
   ]
  },
  {
   "cell_type": "code",
   "execution_count": null,
   "id": "84f94362-0577-4b71-9ecd-5ad79c9d21d5",
   "metadata": {},
   "outputs": [],
   "source": [
    "runoff_dts = list()\n",
    "dt = datetime.date(int(2000), int(1), int(1))\n",
    "while dt <= datetime.date(int(2021), int(12), int(31)):\n",
    "    runoff_dts.append(dt)\n",
    "    dt += datetime.timedelta(days=1)\n",
    "\n",
    "runoff_dts = list()\n",
    "\n",
    "#runoffSum = np.nan * np.zeros(len(racmo_s3_files))\n",
    "runoffSum = np.nan * np.zeros( 9999 )\n",
    "idx = 0\n",
    "for racmo_s3_file in racmo_s3_files:\n",
    "    runoff_sum_within_basin(racmo_s3_file, mask_ulr, mask_lrr,mask_ulc, mask_lrc, maskArray_clipped)\n",
    "    "
   ]
  },
  {
   "cell_type": "code",
   "execution_count": 28,
   "id": "bcc010c2-4134-4fd5-9958-f7938bfba421",
   "metadata": {
    "tags": []
   },
   "outputs": [],
   "source": [
    "import dask\n",
    "lazy_results = []"
   ]
  },
  {
   "cell_type": "code",
   "execution_count": 29,
   "id": "e8016960-cf46-4916-9fa9-9f8ed7f025e4",
   "metadata": {
    "tags": []
   },
   "outputs": [
    {
     "name": "stdout",
     "output_type": "stream",
     "text": [
      "CPU times: user 6.28 ms, sys: 0 ns, total: 6.28 ms\n",
      "Wall time: 5.81 ms\n"
     ]
    }
   ],
   "source": [
    "%%time\n",
    "\n",
    "for racmo_s3_file in racmo_s3_files:\n",
    "    lazy_result = dask.delayed(runoff_sum_within_basin)(racmo_s3_file, mask_ulr, mask_lrr,mask_ulc, mask_lrc, maskArray_clipped)\n",
    "    lazy_results.append(lazy_result)"
   ]
  },
  {
   "cell_type": "code",
   "execution_count": null,
   "id": "f737e081-5ff6-44c0-a3fe-e7f57293d6d5",
   "metadata": {
    "tags": []
   },
   "outputs": [],
   "source": [
    "%time dask.compute(*lazy_results)"
   ]
  }
 ],
 "metadata": {
  "kernelspec": {
   "display_name": "Python 3 (ipykernel)",
   "language": "python",
   "name": "python3"
  },
  "language_info": {
   "codemirror_mode": {
    "name": "ipython",
    "version": 3
   },
   "file_extension": ".py",
   "mimetype": "text/x-python",
   "name": "python",
   "nbconvert_exporter": "python",
   "pygments_lexer": "ipython3",
   "version": "3.10.11"
  }
 },
 "nbformat": 4,
 "nbformat_minor": 5
}
