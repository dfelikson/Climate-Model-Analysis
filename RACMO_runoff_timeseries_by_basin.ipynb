{
 "cells": [
  {
   "cell_type": "markdown",
   "id": "79079f21-e42a-4318-a7ed-e5f495ffc4cc",
   "metadata": {
    "user_expressions": []
   },
   "source": [
    "# Imports"
   ]
  },
  {
   "cell_type": "code",
   "execution_count": null,
   "id": "535bdd1f-e90a-442b-9aad-eee0f22b4633",
   "metadata": {
    "tags": []
   },
   "outputs": [],
   "source": [
    "import os, time\n",
    "\n",
    "import s3fs\n",
    "\n",
    "import xarray as xr\n",
    "import rasterio\n",
    "import numpy as np\n",
    "import matplotlib.pyplot as plt\n",
    "\n",
    "from pyproj import Proj\n",
    "\n",
    "import RasterClipperFunctions\n"
   ]
  },
  {
   "cell_type": "markdown",
   "id": "bb03484f-dc74-42e6-a31a-53f819679b06",
   "metadata": {
    "user_expressions": []
   },
   "source": [
    "# Setup"
   ]
  },
  {
   "cell_type": "code",
   "execution_count": null,
   "id": "a28d9ba4-3440-4900-9e27-24a0bb2ea711",
   "metadata": {
    "tags": []
   },
   "outputs": [],
   "source": [
    "racmo_s3_dir = 's3://gris-outlet-glacier-seasonality-icesat2/Data/RACMO/RACMO2.3p2/'\n",
    "#zarr_dir = 's3://gris-outlet-glacier-seasonality-icesat2/Data/RACMO/RACMO2.3p2/zarr/'\n",
    "\n",
    "fs_s3 = s3fs.S3FileSystem(anon=False, profile='icesat2')\n",
    "racmo_s3_files = fs_s3.ls(racmo_s3_dir)\n"
   ]
  },
  {
   "cell_type": "code",
   "execution_count": null,
   "id": "ade1e038-b240-4181-a296-53ece0494816",
   "metadata": {
    "tags": []
   },
   "outputs": [],
   "source": [
    "racmo_s3_file = racmo_s3_files[0]\n",
    "\n",
    "start = time.time()\n",
    "\n",
    "f = fs_s3.open(racmo_s3_file, 'rb')\n",
    "ds = xr.open_dataset(f) #, engine='netcdf4')\n",
    "variable = ds.variables['runoffcorr'][:,:100,:100].to_numpy() #[:,:,:]\n",
    "x = ds.variables['x'].to_numpy() #[:]\n",
    "y = ds.variables['y'].to_numpy() #[:]\n",
    "ds.close()\n",
    "\n",
    "end = time.time()\n",
    "print('Elapsed time: {:5.1f} sec'.format(end-start))\n",
    "\n",
    "#units = 'kg day^-1 m^-2'\n",
    "#units = units.replace(' m^-2', '')\n"
   ]
  },
  {
   "cell_type": "markdown",
   "id": "e0a5bb73-8ef0-4239-b81c-e7329997ba2b",
   "metadata": {
    "tags": [],
    "user_expressions": []
   },
   "source": [
    "# Create mask array\n",
    "We'll use this mask array to extract runoff from RACMO grid cells within our basin"
   ]
  },
  {
   "cell_type": "code",
   "execution_count": null,
   "id": "2a0bef38-e30c-441e-91e7-244e7b7f4294",
   "metadata": {
    "tags": []
   },
   "outputs": [],
   "source": [
    "#p = Proj(proj='stere',lat_0=90,lat_ts=70,lon_0=-45,ellps='WGS84')\n",
    "#area = 1000. * 1000. # hard-coded to 1 km by 1 km\n",
    "\n",
    "# Shapefile\n",
    "(xClip, yClip) = RasterClipperFunctions.basinUnionPolygon('gimpbasinspoly/gimpbasinspoly.shp', 'basin=1.0')\n",
    "\n",
    "xm, ym = np.meshgrid(x, y)\n",
    "iStep = x[1] - x[0]\n",
    "\n",
    "geoTransform = (x[0]-iStep/2, iStep, 0, y[-1]+iStep/2, 0, -iStep)\n",
    "maskArray = np.flipud(RasterClipperFunctions.clipImage(np.flipud(np.ones(xm.shape)), xClip, yClip, geoTransform))\n"
   ]
  },
  {
   "cell_type": "markdown",
   "id": "f29404a9-819a-41ad-b66b-c5e77604b472",
   "metadata": {
    "user_expressions": []
   },
   "source": [
    "# Loop through RACMO files"
   ]
  },
  {
   "cell_type": "code",
   "execution_count": null,
   "id": "1b7530a4-ecff-4896-a490-db90fe386c01",
   "metadata": {
    "tags": []
   },
   "outputs": [],
   "source": [
    "variableSum = np.nan * np.zeros(len(racmo_s3_files))\n",
    "for i, racmo_s3_file in enumerate(racmo_s3_files):\n",
    "    print(racmo_s3_file)\n",
    "    f = fs_s3.open(racmo_s3_file, 'rb')\n",
    "    ds = xr.open_dataset(f) #, engine='netcdf4')\n",
    "    variable = ds.variables['runoffcorr'].to_numpy()\n",
    "    variableSum[i] = np.nansum(np.where(maskArray > 0.5, np.sum(variable, axis=0), np.nan))\n",
    "    ds.close()\n",
    "    "
   ]
  },
  {
   "cell_type": "code",
   "execution_count": null,
   "id": "014d6ba9-34b6-48d4-ac9a-b2ffdd54e7e5",
   "metadata": {},
   "outputs": [],
   "source": []
  },
  {
   "cell_type": "code",
   "execution_count": null,
   "id": "daec14c7-ea1c-4f0c-80ea-2a5d0d1fbb1f",
   "metadata": {},
   "outputs": [],
   "source": []
  },
  {
   "cell_type": "markdown",
   "id": "c29edd64-ffd3-44ff-ac2e-7e65dff373f9",
   "metadata": {},
   "source": [
    "# Experimental code"
   ]
  },
  {
   "cell_type": "code",
   "execution_count": null,
   "id": "037bb636-8950-4885-bbe3-575d7214b146",
   "metadata": {
    "tags": []
   },
   "outputs": [],
   "source": [
    "from kerchunk.hdf import SingleHdf5ToZarr \n",
    "from kerchunk.combine import MultiZarrToZarr\n",
    "\n",
    "import dask\n",
    "from dask.distributed import Client\n",
    "client = Client(n_workers=8)\n",
    "client\n"
   ]
  },
  {
   "cell_type": "code",
   "execution_count": null,
   "id": "3c36b939-eee0-4d56-b910-f43d1e435286",
   "metadata": {
    "tags": []
   },
   "outputs": [],
   "source": [
    "def gen_json(u):\n",
    "    so = dict(\n",
    "        mode=\"rb\", anon=True, default_fill_cache=False,\n",
    "        default_cache_type=\"none\"\n",
    "    )\n",
    "    with fs_s3.open(u, **so) as inf:\n",
    "        h5chunks = SingleHdf5ToZarr(inf, u, inline_threshold=300)\n",
    "        with open(f\"jsons/{u.split('/')[-1]}.json\", 'wb') as outf:\n",
    "           outf.write(ujson.dumps(h5chunks.translate()).encode())\n",
    "        "
   ]
  },
  {
   "cell_type": "code",
   "execution_count": null,
   "id": "aabd47cb-cfb2-4df7-883a-bc01f9d5efda",
   "metadata": {
    "tags": []
   },
   "outputs": [],
   "source": [
    "gen_json('s3://' + racmo_s3_files[0])\n"
   ]
  },
  {
   "cell_type": "code",
   "execution_count": null,
   "id": "7b23b155-8c10-4c07-a458-6cf539c74a13",
   "metadata": {
    "tags": []
   },
   "outputs": [],
   "source": [
    "import pathlib\n",
    "pathlib.Path('./jsons/').mkdir(exist_ok=True)\n",
    "dask.compute(*[dask.delayed(gen_json)('s3://' + u) for u in racmo_s3_files])\n"
   ]
  },
  {
   "cell_type": "code",
   "execution_count": null,
   "id": "17a58776-8f49-4084-a3ee-19aa14b42dde",
   "metadata": {},
   "outputs": [],
   "source": []
  }
 ],
 "metadata": {
  "kernelspec": {
   "display_name": "Python 3 (ipykernel)",
   "language": "python",
   "name": "python3"
  },
  "language_info": {
   "codemirror_mode": {
    "name": "ipython",
    "version": 3
   },
   "file_extension": ".py",
   "mimetype": "text/x-python",
   "name": "python",
   "nbconvert_exporter": "python",
   "pygments_lexer": "ipython3",
   "version": "3.10.11"
  }
 },
 "nbformat": 4,
 "nbformat_minor": 5
}
