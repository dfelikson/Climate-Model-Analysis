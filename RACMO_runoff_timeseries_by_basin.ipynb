{
 "cells": [
  {
   "cell_type": "markdown",
   "id": "79079f21-e42a-4318-a7ed-e5f495ffc4cc",
   "metadata": {
    "user_expressions": []
   },
   "source": [
    "# Imports"
   ]
  },
  {
   "cell_type": "code",
   "execution_count": 1,
   "id": "535bdd1f-e90a-442b-9aad-eee0f22b4633",
   "metadata": {
    "tags": []
   },
   "outputs": [],
   "source": [
    "import os, time\n",
    "\n",
    "import s3fs\n",
    "\n",
    "import xarray as xr\n",
    "import rasterio\n",
    "import numpy as np\n",
    "import datetime\n",
    "import matplotlib.pyplot as plt\n",
    "\n",
    "from pyproj import Proj\n",
    "\n",
    "import RasterClipperFunctions\n"
   ]
  },
  {
   "cell_type": "markdown",
   "id": "bb03484f-dc74-42e6-a31a-53f819679b06",
   "metadata": {
    "user_expressions": []
   },
   "source": [
    "# Setup"
   ]
  },
  {
   "cell_type": "code",
   "execution_count": 2,
   "id": "a07c410d-b3f5-44cb-a547-3555a252c39c",
   "metadata": {
    "tags": []
   },
   "outputs": [],
   "source": [
    "# choose basin\n",
    "basin = '12.0'\n",
    "s3_profile = '' # this must be specified ... do not leave this blank\n"
   ]
  },
  {
   "cell_type": "markdown",
   "id": "48436598-9ddf-429f-a857-9ccffffac437",
   "metadata": {
    "user_expressions": []
   },
   "source": [
    "You should not need to change anything below this line."
   ]
  },
  {
   "cell_type": "code",
   "execution_count": 3,
   "id": "87c46241-5b89-4b52-b69a-7cf98ec1af8f",
   "metadata": {
    "tags": []
   },
   "outputs": [],
   "source": [
    "racmo_s3_dir = 's3://gris-outlet-glacier-seasonality-icesat2/Data/RACMO/RACMO2.3p2/*.netcdf4_classic.nc'\n",
    "\n",
    "fs_s3 = s3fs.S3FileSystem(anon=False, profile=s3_profile)\n",
    "racmo_s3_files = fs_s3.glob(racmo_s3_dir)\n"
   ]
  },
  {
   "cell_type": "code",
   "execution_count": 4,
   "id": "ade1e038-b240-4181-a296-53ece0494816",
   "metadata": {
    "tags": []
   },
   "outputs": [
    {
     "name": "stdout",
     "output_type": "stream",
     "text": [
      "Elapsed time:   1.0 sec\n"
     ]
    }
   ],
   "source": [
    "racmo_s3_file = racmo_s3_files[0]\n",
    "\n",
    "start = time.time()\n",
    "\n",
    "f = fs_s3.open(racmo_s3_file, 'rb')\n",
    "ds = xr.open_dataset(f) #, engine='netcdf4')\n",
    "runoff = ds.variables['runoffcorr'] #[:,:,:].to_numpy() #[:,:,:]\n",
    "x = ds.variables['x'].to_numpy() #[:]\n",
    "y = ds.variables['y'].to_numpy() #[:]\n",
    "ds.close()\n",
    "\n",
    "end = time.time()\n",
    "print('Elapsed time: {:5.1f} sec'.format(end-start))\n"
   ]
  },
  {
   "cell_type": "markdown",
   "id": "e0a5bb73-8ef0-4239-b81c-e7329997ba2b",
   "metadata": {
    "tags": [],
    "user_expressions": []
   },
   "source": [
    "# Create mask array\n",
    "We'll use this mask array to extract runoff from RACMO grid cells within our basin"
   ]
  },
  {
   "cell_type": "code",
   "execution_count": 5,
   "id": "2a0bef38-e30c-441e-91e7-244e7b7f4294",
   "metadata": {
    "tags": []
   },
   "outputs": [
    {
     "name": "stderr",
     "output_type": "stream",
     "text": [
      "/home/jovyan/Climate-Model-Analysis/RasterClipperFunctions.py:59: ShapelyDeprecationWarning: The 'cascaded_union()' function is deprecated. Use 'unary_union()' instead.\n",
      "  polyUnion = cascaded_union(polys)\n"
     ]
    }
   ],
   "source": [
    "# Shapefile\n",
    "(xClip, yClip) = RasterClipperFunctions.basinUnionPolygon('gimpbasinspoly/gimpbasinspoly.shp', 'basin='+basin)\n",
    "\n",
    "xm, ym = np.meshgrid(x, y)\n",
    "iStep = x[1] - x[0]\n",
    "\n",
    "geoTransform = (x[0]-iStep/2, iStep, 0, y[-1]+iStep/2, 0, -iStep)\n",
    "maskArray = np.flipud(RasterClipperFunctions.clipImage(np.flipud(np.ones(xm.shape)), xClip, yClip, geoTransform))\n",
    "\n",
    "maskArray_3d = np.broadcast_to(maskArray > 0.5, runoff.shape)\n"
   ]
  },
  {
   "cell_type": "code",
   "execution_count": 6,
   "id": "9f4ac30e-fa32-422d-b39a-af19e10bcb8d",
   "metadata": {
    "tags": []
   },
   "outputs": [],
   "source": [
    "r = np.where(np.any(maskArray==True, axis=1)==True)\n",
    "c = np.where(np.any(maskArray==True, axis=0)==True)\n",
    "mask_ulr = r[0][0]\n",
    "mask_ulc = c[0][0]\n",
    "mask_lrr = r[0][-1]\n",
    "mask_lrc = c[0][-1]\n",
    "\n",
    "maskArray_clipped = maskArray[mask_ulr:mask_lrr,mask_ulc:mask_lrc]\n"
   ]
  },
  {
   "cell_type": "markdown",
   "id": "f29404a9-819a-41ad-b66b-c5e77604b472",
   "metadata": {
    "user_expressions": []
   },
   "source": [
    "# Loop through RACMO files"
   ]
  },
  {
   "cell_type": "code",
   "execution_count": 7,
   "id": "1b7530a4-ecff-4896-a490-db90fe386c01",
   "metadata": {
    "tags": []
   },
   "outputs": [
    {
     "name": "stdout",
     "output_type": "stream",
     "text": [
      "gris-outlet-glacier-seasonality-icesat2/Data/RACMO/RACMO2.3p2/runoff.2000_AMJ.BN_RACMO2.3p2_ERA5_3h_FGRN055.1km.DD.netcdf4_classic.nc\n",
      "  -> Elapsed time:  17.6 sec\n",
      "gris-outlet-glacier-seasonality-icesat2/Data/RACMO/RACMO2.3p2/runoff.2000_JAS.BN_RACMO2.3p2_ERA5_3h_FGRN055.1km.DD.netcdf4_classic.nc\n",
      "  -> Elapsed time:  19.6 sec\n",
      "gris-outlet-glacier-seasonality-icesat2/Data/RACMO/RACMO2.3p2/runoff.2000_JFM.BN_RACMO2.3p2_ERA5_3h_FGRN055.1km.DD.netcdf4_classic.nc\n",
      "  -> Elapsed time:  18.7 sec\n",
      "gris-outlet-glacier-seasonality-icesat2/Data/RACMO/RACMO2.3p2/runoff.2000_OND.BN_RACMO2.3p2_ERA5_3h_FGRN055.1km.DD.netcdf4_classic.nc\n",
      "  -> Elapsed time:  17.7 sec\n",
      "gris-outlet-glacier-seasonality-icesat2/Data/RACMO/RACMO2.3p2/runoff.2001_AMJ.BN_RACMO2.3p2_ERA5_3h_FGRN055.1km.DD.netcdf4_classic.nc\n",
      "  -> Elapsed time:  18.4 sec\n",
      "gris-outlet-glacier-seasonality-icesat2/Data/RACMO/RACMO2.3p2/runoff.2001_JAS.BN_RACMO2.3p2_ERA5_3h_FGRN055.1km.DD.netcdf4_classic.nc\n",
      "  -> Elapsed time:  18.1 sec\n",
      "gris-outlet-glacier-seasonality-icesat2/Data/RACMO/RACMO2.3p2/runoff.2001_JFM.BN_RACMO2.3p2_ERA5_3h_FGRN055.1km.DD.netcdf4_classic.nc\n",
      "  -> Elapsed time:  19.2 sec\n",
      "gris-outlet-glacier-seasonality-icesat2/Data/RACMO/RACMO2.3p2/runoff.2001_OND.BN_RACMO2.3p2_ERA5_3h_FGRN055.1km.DD.netcdf4_classic.nc\n",
      "  -> Elapsed time:  18.4 sec\n",
      "gris-outlet-glacier-seasonality-icesat2/Data/RACMO/RACMO2.3p2/runoff.2002_AMJ.BN_RACMO2.3p2_ERA5_3h_FGRN055.1km.DD.netcdf4_classic.nc\n",
      "  -> Elapsed time:  19.7 sec\n",
      "gris-outlet-glacier-seasonality-icesat2/Data/RACMO/RACMO2.3p2/runoff.2002_JAS.BN_RACMO2.3p2_ERA5_3h_FGRN055.1km.DD.netcdf4_classic.nc\n",
      "  -> Elapsed time:  20.1 sec\n",
      "gris-outlet-glacier-seasonality-icesat2/Data/RACMO/RACMO2.3p2/runoff.2002_JFM.BN_RACMO2.3p2_ERA5_3h_FGRN055.1km.DD.netcdf4_classic.nc\n",
      "  -> Elapsed time:  19.6 sec\n",
      "gris-outlet-glacier-seasonality-icesat2/Data/RACMO/RACMO2.3p2/runoff.2002_OND.BN_RACMO2.3p2_ERA5_3h_FGRN055.1km.DD.netcdf4_classic.nc\n",
      "  -> Elapsed time:  18.8 sec\n",
      "gris-outlet-glacier-seasonality-icesat2/Data/RACMO/RACMO2.3p2/runoff.2003_AMJ.BN_RACMO2.3p2_ERA5_3h_FGRN055.1km.DD.netcdf4_classic.nc\n",
      "  -> Elapsed time:  19.4 sec\n",
      "gris-outlet-glacier-seasonality-icesat2/Data/RACMO/RACMO2.3p2/runoff.2003_JAS.BN_RACMO2.3p2_ERA5_3h_FGRN055.1km.DD.netcdf4_classic.nc\n",
      "  -> Elapsed time:  19.1 sec\n",
      "gris-outlet-glacier-seasonality-icesat2/Data/RACMO/RACMO2.3p2/runoff.2003_JFM.BN_RACMO2.3p2_ERA5_3h_FGRN055.1km.DD.netcdf4_classic.nc\n",
      "  -> Elapsed time:  20.1 sec\n",
      "gris-outlet-glacier-seasonality-icesat2/Data/RACMO/RACMO2.3p2/runoff.2003_OND.BN_RACMO2.3p2_ERA5_3h_FGRN055.1km.DD.netcdf4_classic.nc\n",
      "  -> Elapsed time:  18.9 sec\n",
      "gris-outlet-glacier-seasonality-icesat2/Data/RACMO/RACMO2.3p2/runoff.2004_AMJ.BN_RACMO2.3p2_ERA5_3h_FGRN055.1km.DD.netcdf4_classic.nc\n",
      "  -> Elapsed time:  20.1 sec\n",
      "gris-outlet-glacier-seasonality-icesat2/Data/RACMO/RACMO2.3p2/runoff.2004_JAS.BN_RACMO2.3p2_ERA5_3h_FGRN055.1km.DD.netcdf4_classic.nc\n",
      "  -> Elapsed time:  19.9 sec\n",
      "gris-outlet-glacier-seasonality-icesat2/Data/RACMO/RACMO2.3p2/runoff.2004_JFM.BN_RACMO2.3p2_ERA5_3h_FGRN055.1km.DD.netcdf4_classic.nc\n",
      "  -> Elapsed time:  21.0 sec\n",
      "gris-outlet-glacier-seasonality-icesat2/Data/RACMO/RACMO2.3p2/runoff.2004_OND.BN_RACMO2.3p2_ERA5_3h_FGRN055.1km.DD.netcdf4_classic.nc\n",
      "  -> Elapsed time:  20.9 sec\n",
      "gris-outlet-glacier-seasonality-icesat2/Data/RACMO/RACMO2.3p2/runoff.2005_AMJ.BN_RACMO2.3p2_ERA5_3h_FGRN055.1km.DD.netcdf4_classic.nc\n",
      "  -> Elapsed time:  23.6 sec\n",
      "gris-outlet-glacier-seasonality-icesat2/Data/RACMO/RACMO2.3p2/runoff.2005_JAS.BN_RACMO2.3p2_ERA5_3h_FGRN055.1km.DD.netcdf4_classic.nc\n",
      "  -> Elapsed time:  22.4 sec\n",
      "gris-outlet-glacier-seasonality-icesat2/Data/RACMO/RACMO2.3p2/runoff.2005_JFM.BN_RACMO2.3p2_ERA5_3h_FGRN055.1km.DD.netcdf4_classic.nc\n",
      "  -> Elapsed time:  22.1 sec\n",
      "gris-outlet-glacier-seasonality-icesat2/Data/RACMO/RACMO2.3p2/runoff.2005_OND.BN_RACMO2.3p2_ERA5_3h_FGRN055.1km.DD.netcdf4_classic.nc\n",
      "  -> Elapsed time:  22.7 sec\n",
      "gris-outlet-glacier-seasonality-icesat2/Data/RACMO/RACMO2.3p2/runoff.2006_AMJ.BN_RACMO2.3p2_ERA5_3h_FGRN055.1km.DD.netcdf4_classic.nc\n",
      "  -> Elapsed time:  21.4 sec\n",
      "gris-outlet-glacier-seasonality-icesat2/Data/RACMO/RACMO2.3p2/runoff.2006_JAS.BN_RACMO2.3p2_ERA5_3h_FGRN055.1km.DD.netcdf4_classic.nc\n",
      "  -> Elapsed time:  21.1 sec\n",
      "gris-outlet-glacier-seasonality-icesat2/Data/RACMO/RACMO2.3p2/runoff.2006_JFM.BN_RACMO2.3p2_ERA5_3h_FGRN055.1km.DD.netcdf4_classic.nc\n",
      "  -> Elapsed time:  22.4 sec\n",
      "gris-outlet-glacier-seasonality-icesat2/Data/RACMO/RACMO2.3p2/runoff.2006_OND.BN_RACMO2.3p2_ERA5_3h_FGRN055.1km.DD.netcdf4_classic.nc\n",
      "  -> Elapsed time:  22.2 sec\n",
      "gris-outlet-glacier-seasonality-icesat2/Data/RACMO/RACMO2.3p2/runoff.2007_AMJ.BN_RACMO2.3p2_ERA5_3h_FGRN055.1km.DD.netcdf4_classic.nc\n",
      "  -> Elapsed time:  22.2 sec\n",
      "gris-outlet-glacier-seasonality-icesat2/Data/RACMO/RACMO2.3p2/runoff.2007_JAS.BN_RACMO2.3p2_ERA5_3h_FGRN055.1km.DD.netcdf4_classic.nc\n",
      "  -> Elapsed time:  21.7 sec\n",
      "gris-outlet-glacier-seasonality-icesat2/Data/RACMO/RACMO2.3p2/runoff.2007_JFM.BN_RACMO2.3p2_ERA5_3h_FGRN055.1km.DD.netcdf4_classic.nc\n",
      "  -> Elapsed time:  21.7 sec\n",
      "gris-outlet-glacier-seasonality-icesat2/Data/RACMO/RACMO2.3p2/runoff.2007_OND.BN_RACMO2.3p2_ERA5_3h_FGRN055.1km.DD.netcdf4_classic.nc\n",
      "  -> Elapsed time:  22.2 sec\n",
      "gris-outlet-glacier-seasonality-icesat2/Data/RACMO/RACMO2.3p2/runoff.2008_AMJ.BN_RACMO2.3p2_ERA5_3h_FGRN055.1km.DD.netcdf4_classic.nc\n",
      "  -> Elapsed time:  21.5 sec\n",
      "gris-outlet-glacier-seasonality-icesat2/Data/RACMO/RACMO2.3p2/runoff.2008_JAS.BN_RACMO2.3p2_ERA5_3h_FGRN055.1km.DD.netcdf4_classic.nc\n",
      "  -> Elapsed time:  21.2 sec\n",
      "gris-outlet-glacier-seasonality-icesat2/Data/RACMO/RACMO2.3p2/runoff.2008_JFM.BN_RACMO2.3p2_ERA5_3h_FGRN055.1km.DD.netcdf4_classic.nc\n",
      "  -> Elapsed time:  21.7 sec\n",
      "gris-outlet-glacier-seasonality-icesat2/Data/RACMO/RACMO2.3p2/runoff.2008_OND.BN_RACMO2.3p2_ERA5_3h_FGRN055.1km.DD.netcdf4_classic.nc\n",
      "  -> Elapsed time:  22.0 sec\n",
      "gris-outlet-glacier-seasonality-icesat2/Data/RACMO/RACMO2.3p2/runoff.2009_AMJ.BN_RACMO2.3p2_ERA5_3h_FGRN055.1km.DD.netcdf4_classic.nc\n",
      "  -> Elapsed time:  20.2 sec\n",
      "gris-outlet-glacier-seasonality-icesat2/Data/RACMO/RACMO2.3p2/runoff.2009_JAS.BN_RACMO2.3p2_ERA5_3h_FGRN055.1km.DD.netcdf4_classic.nc\n",
      "  -> Elapsed time:  20.3 sec\n",
      "gris-outlet-glacier-seasonality-icesat2/Data/RACMO/RACMO2.3p2/runoff.2009_JFM.BN_RACMO2.3p2_ERA5_3h_FGRN055.1km.DD.netcdf4_classic.nc\n",
      "  -> Elapsed time:  21.5 sec\n",
      "gris-outlet-glacier-seasonality-icesat2/Data/RACMO/RACMO2.3p2/runoff.2009_OND.BN_RACMO2.3p2_ERA5_3h_FGRN055.1km.DD.netcdf4_classic.nc\n",
      "  -> Elapsed time:  20.1 sec\n",
      "gris-outlet-glacier-seasonality-icesat2/Data/RACMO/RACMO2.3p2/runoff.2010_AMJ.BN_RACMO2.3p2_ERA5_3h_FGRN055.1km.DD.netcdf4_classic.nc\n",
      "  -> Elapsed time:  21.9 sec\n",
      "gris-outlet-glacier-seasonality-icesat2/Data/RACMO/RACMO2.3p2/runoff.2010_JAS.BN_RACMO2.3p2_ERA5_3h_FGRN055.1km.DD.netcdf4_classic.nc\n",
      "  -> Elapsed time:  19.8 sec\n",
      "gris-outlet-glacier-seasonality-icesat2/Data/RACMO/RACMO2.3p2/runoff.2010_JFM.BN_RACMO2.3p2_ERA5_3h_FGRN055.1km.DD.netcdf4_classic.nc\n",
      "  -> Elapsed time:  22.0 sec\n",
      "gris-outlet-glacier-seasonality-icesat2/Data/RACMO/RACMO2.3p2/runoff.2010_OND.BN_RACMO2.3p2_ERA5_3h_FGRN055.1km.DD.netcdf4_classic.nc\n",
      "  -> Elapsed time:  21.1 sec\n",
      "gris-outlet-glacier-seasonality-icesat2/Data/RACMO/RACMO2.3p2/runoff.2011_AMJ.BN_RACMO2.3p2_ERA5_3h_FGRN055.1km.DD.netcdf4_classic.nc\n",
      "  -> Elapsed time:  22.9 sec\n",
      "gris-outlet-glacier-seasonality-icesat2/Data/RACMO/RACMO2.3p2/runoff.2011_JAS.BN_RACMO2.3p2_ERA5_3h_FGRN055.1km.DD.netcdf4_classic.nc\n",
      "  -> Elapsed time:  21.9 sec\n",
      "gris-outlet-glacier-seasonality-icesat2/Data/RACMO/RACMO2.3p2/runoff.2011_JFM.BN_RACMO2.3p2_ERA5_3h_FGRN055.1km.DD.netcdf4_classic.nc\n",
      "  -> Elapsed time:  21.4 sec\n",
      "gris-outlet-glacier-seasonality-icesat2/Data/RACMO/RACMO2.3p2/runoff.2011_OND.BN_RACMO2.3p2_ERA5_3h_FGRN055.1km.DD.netcdf4_classic.nc\n",
      "  -> Elapsed time:  21.8 sec\n",
      "gris-outlet-glacier-seasonality-icesat2/Data/RACMO/RACMO2.3p2/runoff.2012_AMJ.BN_RACMO2.3p2_ERA5_3h_FGRN055.1km.DD.netcdf4_classic.nc\n",
      "  -> Elapsed time:  20.8 sec\n",
      "gris-outlet-glacier-seasonality-icesat2/Data/RACMO/RACMO2.3p2/runoff.2012_JAS.BN_RACMO2.3p2_ERA5_3h_FGRN055.1km.DD.netcdf4_classic.nc\n",
      "  -> Elapsed time:  19.9 sec\n",
      "gris-outlet-glacier-seasonality-icesat2/Data/RACMO/RACMO2.3p2/runoff.2012_JFM.BN_RACMO2.3p2_ERA5_3h_FGRN055.1km.DD.netcdf4_classic.nc\n",
      "  -> Elapsed time:  20.5 sec\n",
      "gris-outlet-glacier-seasonality-icesat2/Data/RACMO/RACMO2.3p2/runoff.2012_OND.BN_RACMO2.3p2_ERA5_3h_FGRN055.1km.DD.netcdf4_classic.nc\n",
      "  -> Elapsed time:  22.4 sec\n",
      "gris-outlet-glacier-seasonality-icesat2/Data/RACMO/RACMO2.3p2/runoff.2013_AMJ.BN_RACMO2.3p2_ERA5_3h_FGRN055.1km.DD.netcdf4_classic.nc\n",
      "  -> Elapsed time:  20.5 sec\n",
      "gris-outlet-glacier-seasonality-icesat2/Data/RACMO/RACMO2.3p2/runoff.2013_JAS.BN_RACMO2.3p2_ERA5_3h_FGRN055.1km.DD.netcdf4_classic.nc\n",
      "  -> Elapsed time:  20.4 sec\n",
      "gris-outlet-glacier-seasonality-icesat2/Data/RACMO/RACMO2.3p2/runoff.2013_JFM.BN_RACMO2.3p2_ERA5_3h_FGRN055.1km.DD.netcdf4_classic.nc\n",
      "  -> Elapsed time:  21.5 sec\n",
      "gris-outlet-glacier-seasonality-icesat2/Data/RACMO/RACMO2.3p2/runoff.2013_OND.BN_RACMO2.3p2_ERA5_3h_FGRN055.1km.DD.netcdf4_classic.nc\n",
      "  -> Elapsed time:  20.6 sec\n",
      "gris-outlet-glacier-seasonality-icesat2/Data/RACMO/RACMO2.3p2/runoff.2014_AMJ.BN_RACMO2.3p2_ERA5_3h_FGRN055.1km.DD.netcdf4_classic.nc\n",
      "  -> Elapsed time:  20.8 sec\n",
      "gris-outlet-glacier-seasonality-icesat2/Data/RACMO/RACMO2.3p2/runoff.2014_JAS.BN_RACMO2.3p2_ERA5_3h_FGRN055.1km.DD.netcdf4_classic.nc\n",
      "  -> Elapsed time:  21.7 sec\n",
      "gris-outlet-glacier-seasonality-icesat2/Data/RACMO/RACMO2.3p2/runoff.2014_JFM.BN_RACMO2.3p2_ERA5_3h_FGRN055.1km.DD.netcdf4_classic.nc\n",
      "  -> Elapsed time:  21.1 sec\n",
      "gris-outlet-glacier-seasonality-icesat2/Data/RACMO/RACMO2.3p2/runoff.2014_OND.BN_RACMO2.3p2_ERA5_3h_FGRN055.1km.DD.netcdf4_classic.nc\n",
      "  -> Elapsed time:  21.9 sec\n",
      "gris-outlet-glacier-seasonality-icesat2/Data/RACMO/RACMO2.3p2/runoff.2015_AMJ.BN_RACMO2.3p2_ERA5_3h_FGRN055.1km.DD.netcdf4_classic.nc\n",
      "  -> Elapsed time:  21.6 sec\n",
      "gris-outlet-glacier-seasonality-icesat2/Data/RACMO/RACMO2.3p2/runoff.2015_JAS.BN_RACMO2.3p2_ERA5_3h_FGRN055.1km.DD.netcdf4_classic.nc\n",
      "  -> Elapsed time:  21.4 sec\n",
      "gris-outlet-glacier-seasonality-icesat2/Data/RACMO/RACMO2.3p2/runoff.2015_JFM.BN_RACMO2.3p2_ERA5_3h_FGRN055.1km.DD.netcdf4_classic.nc\n",
      "  -> Elapsed time:  22.1 sec\n",
      "gris-outlet-glacier-seasonality-icesat2/Data/RACMO/RACMO2.3p2/runoff.2015_OND.BN_RACMO2.3p2_ERA5_3h_FGRN055.1km.DD.netcdf4_classic.nc\n",
      "  -> Elapsed time:  21.3 sec\n",
      "gris-outlet-glacier-seasonality-icesat2/Data/RACMO/RACMO2.3p2/runoff.2016_AMJ.BN_RACMO2.3p2_ERA5_3h_FGRN055.1km.DD.netcdf4_classic.nc\n",
      "  -> Elapsed time:  21.3 sec\n",
      "gris-outlet-glacier-seasonality-icesat2/Data/RACMO/RACMO2.3p2/runoff.2016_JAS.BN_RACMO2.3p2_ERA5_3h_FGRN055.1km.DD.netcdf4_classic.nc\n",
      "  -> Elapsed time:  22.1 sec\n",
      "gris-outlet-glacier-seasonality-icesat2/Data/RACMO/RACMO2.3p2/runoff.2016_JFM.BN_RACMO2.3p2_ERA5_3h_FGRN055.1km.DD.netcdf4_classic.nc\n",
      "  -> Elapsed time:  21.3 sec\n",
      "gris-outlet-glacier-seasonality-icesat2/Data/RACMO/RACMO2.3p2/runoff.2016_OND.BN_RACMO2.3p2_ERA5_3h_FGRN055.1km.DD.netcdf4_classic.nc\n",
      "  -> Elapsed time:  22.9 sec\n",
      "gris-outlet-glacier-seasonality-icesat2/Data/RACMO/RACMO2.3p2/runoff.2017_AMJ.BN_RACMO2.3p2_ERA5_3h_FGRN055.1km.DD.netcdf4_classic.nc\n",
      "  -> Elapsed time:  22.0 sec\n",
      "gris-outlet-glacier-seasonality-icesat2/Data/RACMO/RACMO2.3p2/runoff.2017_JAS.BN_RACMO2.3p2_ERA5_3h_FGRN055.1km.DD.netcdf4_classic.nc\n",
      "  -> Elapsed time:  21.8 sec\n",
      "gris-outlet-glacier-seasonality-icesat2/Data/RACMO/RACMO2.3p2/runoff.2017_JFM.BN_RACMO2.3p2_ERA5_3h_FGRN055.1km.DD.netcdf4_classic.nc\n",
      "  -> Elapsed time:  22.5 sec\n",
      "gris-outlet-glacier-seasonality-icesat2/Data/RACMO/RACMO2.3p2/runoff.2017_OND.BN_RACMO2.3p2_ERA5_3h_FGRN055.1km.DD.netcdf4_classic.nc\n",
      "  -> Elapsed time:  21.9 sec\n",
      "gris-outlet-glacier-seasonality-icesat2/Data/RACMO/RACMO2.3p2/runoff.2018_AMJ.BN_RACMO2.3p2_ERA5_3h_FGRN055.1km.DD.netcdf4_classic.nc\n",
      "  -> Elapsed time:  23.6 sec\n",
      "gris-outlet-glacier-seasonality-icesat2/Data/RACMO/RACMO2.3p2/runoff.2018_JAS.BN_RACMO2.3p2_ERA5_3h_FGRN055.1km.DD.netcdf4_classic.nc\n",
      "  -> Elapsed time:  22.9 sec\n",
      "gris-outlet-glacier-seasonality-icesat2/Data/RACMO/RACMO2.3p2/runoff.2018_JFM.BN_RACMO2.3p2_ERA5_3h_FGRN055.1km.DD.netcdf4_classic.nc\n",
      "  -> Elapsed time:  21.6 sec\n",
      "gris-outlet-glacier-seasonality-icesat2/Data/RACMO/RACMO2.3p2/runoff.2018_OND.BN_RACMO2.3p2_ERA5_3h_FGRN055.1km.DD.netcdf4_classic.nc\n",
      "  -> Elapsed time:  21.3 sec\n",
      "gris-outlet-glacier-seasonality-icesat2/Data/RACMO/RACMO2.3p2/runoff.2019_AMJ.BN_RACMO2.3p2_ERA5_3h_FGRN055.1km.DD.netcdf4_classic.nc\n",
      "  -> Elapsed time:  22.7 sec\n",
      "gris-outlet-glacier-seasonality-icesat2/Data/RACMO/RACMO2.3p2/runoff.2019_JAS.BN_RACMO2.3p2_ERA5_3h_FGRN055.1km.DD.netcdf4_classic.nc\n",
      "  -> Elapsed time:  21.4 sec\n",
      "gris-outlet-glacier-seasonality-icesat2/Data/RACMO/RACMO2.3p2/runoff.2019_JFM.BN_RACMO2.3p2_ERA5_3h_FGRN055.1km.DD.netcdf4_classic.nc\n",
      "  -> Elapsed time:  25.1 sec\n",
      "gris-outlet-glacier-seasonality-icesat2/Data/RACMO/RACMO2.3p2/runoff.2019_OND.BN_RACMO2.3p2_ERA5_3h_FGRN055.1km.DD.netcdf4_classic.nc\n",
      "  -> Elapsed time:  23.5 sec\n",
      "gris-outlet-glacier-seasonality-icesat2/Data/RACMO/RACMO2.3p2/runoff.2020_AMJ.BN_RACMO2.3p2_ERA5_3h_FGRN055.1km.DD.netcdf4_classic.nc\n",
      "  -> Elapsed time:  22.0 sec\n",
      "gris-outlet-glacier-seasonality-icesat2/Data/RACMO/RACMO2.3p2/runoff.2020_JAS.BN_RACMO2.3p2_ERA5_3h_FGRN055.1km.DD.netcdf4_classic.nc\n",
      "  -> Elapsed time:   7.6 sec\n",
      "gris-outlet-glacier-seasonality-icesat2/Data/RACMO/RACMO2.3p2/runoff.2020_JFM.BN_RACMO2.3p2_ERA5_3h_FGRN055.1km.DD.netcdf4_classic.nc\n",
      "  -> Elapsed time:  21.9 sec\n",
      "gris-outlet-glacier-seasonality-icesat2/Data/RACMO/RACMO2.3p2/runoff.2020_OND.BN_RACMO2.3p2_ERA5_3h_FGRN055.1km.DD.netcdf4_classic.nc\n",
      "  -> Elapsed time:  23.1 sec\n",
      "gris-outlet-glacier-seasonality-icesat2/Data/RACMO/RACMO2.3p2/runoff.2021_AMJ.BN_RACMO2.3p2_ERA5_3h_FGRN055.1km.DD.netcdf4_classic.nc\n",
      "  -> Elapsed time:  20.8 sec\n",
      "gris-outlet-glacier-seasonality-icesat2/Data/RACMO/RACMO2.3p2/runoff.2021_JAS.BN_RACMO2.3p2_ERA5_3h_FGRN055.1km.DD.netcdf4_classic.nc\n",
      "  -> Elapsed time:  21.9 sec\n",
      "gris-outlet-glacier-seasonality-icesat2/Data/RACMO/RACMO2.3p2/runoff.2021_JFM.BN_RACMO2.3p2_ERA5_3h_FGRN055.1km.DD.netcdf4_classic.nc\n",
      "  -> Elapsed time:  22.1 sec\n",
      "gris-outlet-glacier-seasonality-icesat2/Data/RACMO/RACMO2.3p2/runoff.2021_OND.BN_RACMO2.3p2_ERA5_3h_FGRN055.1km.DD.netcdf4_classic.nc\n",
      "  -> Elapsed time:  21.6 sec\n"
     ]
    }
   ],
   "source": [
    "runoff_dts = list()\n",
    "dt = datetime.date(int(2000), int(1), int(1))\n",
    "while dt <= datetime.date(int(2021), int(12), int(31)):\n",
    "    runoff_dts.append(dt)\n",
    "    dt += datetime.timedelta(days=1)\n",
    "\n",
    "runoff_dts = list()\n",
    "\n",
    "#runoffSum = np.nan * np.zeros(len(racmo_s3_files))\n",
    "runoffSum = np.nan * np.zeros( 9999 )\n",
    "idx = 0\n",
    "for racmo_s3_file in racmo_s3_files:\n",
    "    print(racmo_s3_file)\n",
    "    f = fs_s3.open(racmo_s3_file, 'rb')\n",
    "    ds = xr.open_dataset(f) #, engine='netcdf4')\n",
    "    \n",
    "    start = time.time()\n",
    "    runoff = ds.variables['runoffcorr'][:,mask_ulr:mask_lrr,mask_ulc:mask_lrc].to_numpy()\n",
    "    maskArray_3d = np.broadcast_to(maskArray_clipped > 0.5, runoff.shape)\n",
    "    runoffSum[idx:idx+runoff.shape[0]] = np.nansum(np.where(maskArray_3d, runoff, np.nan), axis=(1,2))\n",
    "    runoff_dts.extend(ds.variables['time'].to_numpy())\n",
    "    ds.close()\n",
    "    print('  -> Elapsed time: {:5.1f} sec'.format(time.time()-start))\n",
    "    \n",
    "    idx += runoff.shape[0]\n",
    "    \n",
    "# Change units from mm w.e. to m3 per day\n",
    "runoffSum_m3 = (runoffSum/1000.)*1000.*1000.\n"
   ]
  },
  {
   "cell_type": "code",
   "execution_count": 8,
   "id": "797f8d8d-787e-4a20-b004-9bc0638e476e",
   "metadata": {
    "tags": []
   },
   "outputs": [],
   "source": [
    "if not os.path.exists('output'):\n",
    "    os.makedirs('output')\n",
    "\n",
    "n = len(runoff_dts)\n",
    "runoffSum_m3 = runoffSum_m3[:n]\n",
    "\n",
    "runoff_dts = np.array(runoff_dts)\n",
    "\n",
    "# Sort by time\n",
    "idx = np.argsort(runoff_dts)\n",
    "runoff_dts = runoff_dts[idx]\n",
    "runoffSum_m3 = runoffSum_m3[idx]\n",
    "\n",
    "runoff_years = runoff_dts.astype('datetime64[Y]').astype(int) + 1970\n",
    "runoff_months = runoff_dts.astype('datetime64[M]').astype(int) % 12 + 1\n",
    "runoff_days = runoff_dts - runoff_dts.astype('datetime64[M]') + 1\n",
    "\n",
    "# Save output file - daily\n",
    "f = open('output/'+basin+'_runoff_daily.csv', 'w')\n",
    "for i, dt in enumerate(runoff_dts):\n",
    "    f.write('{:4d}, {:2d}, {:2s}, {:10.2f}\\n'.format(runoff_years[i], runoff_months[i], runoff_dts[i].astype(str)[8:10], runoffSum_m3[i]))\n",
    "f.close()\n",
    "\n",
    "# Sum over months\n",
    "runoff_monthly_m3 = list()\n",
    "for year in np.arange(2000,2022):\n",
    "    for month in np.arange(1,13):\n",
    "        idx = np.where(np.logical_and(runoff_years==year, runoff_months==month))\n",
    "        runoff_monthly_m3.append(np.sum(runoffSum_m3[idx]))\n",
    "        \n",
    "# Save output file - monthly\n",
    "f = open('output/'+basin+'_runoff_monthly.csv', 'w')\n",
    "i = 0\n",
    "for year in np.arange(2000,2022):\n",
    "    for month in np.arange(1,13):\n",
    "        f.write('{:4d}, {:2d}, {:10.2f}\\n'.format(year, month, runoff_monthly_m3[i]))\n",
    "        i += 1\n",
    "f.close()\n"
   ]
  },
  {
   "cell_type": "code",
   "execution_count": null,
   "id": "69e020bb-3051-42c4-a2a7-cf3d823cff3b",
   "metadata": {},
   "outputs": [],
   "source": []
  }
 ],
 "metadata": {
  "kernelspec": {
   "display_name": "Python 3 (ipykernel)",
   "language": "python",
   "name": "python3"
  },
  "language_info": {
   "codemirror_mode": {
    "name": "ipython",
    "version": 3
   },
   "file_extension": ".py",
   "mimetype": "text/x-python",
   "name": "python",
   "nbconvert_exporter": "python",
   "pygments_lexer": "ipython3",
   "version": "3.10.11"
  }
 },
 "nbformat": 4,
 "nbformat_minor": 5
}
