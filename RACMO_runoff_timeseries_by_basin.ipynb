{
 "cells": [
  {
   "cell_type": "markdown",
   "id": "79079f21-e42a-4318-a7ed-e5f495ffc4cc",
   "metadata": {
    "user_expressions": []
   },
   "source": [
    "# Imports"
   ]
  },
  {
   "cell_type": "code",
   "execution_count": 1,
   "id": "535bdd1f-e90a-442b-9aad-eee0f22b4633",
   "metadata": {
    "tags": []
   },
   "outputs": [],
   "source": [
    "import os, time\n",
    "\n",
    "import s3fs\n",
    "\n",
    "import xarray as xr\n",
    "import rasterio\n",
    "import numpy as np\n",
    "import datetime\n",
    "import matplotlib.pyplot as plt\n",
    "\n",
    "from pyproj import Proj\n",
    "\n",
    "import RasterClipperFunctions\n"
   ]
  },
  {
   "cell_type": "markdown",
   "id": "bb03484f-dc74-42e6-a31a-53f819679b06",
   "metadata": {
    "user_expressions": []
   },
   "source": [
    "# Setup"
   ]
  },
  {
   "cell_type": "code",
   "execution_count": 2,
   "id": "a28d9ba4-3440-4900-9e27-24a0bb2ea711",
   "metadata": {
    "tags": []
   },
   "outputs": [],
   "source": [
    "racmo_s3_dir = 's3://gris-outlet-glacier-seasonality-icesat2/Data/RACMO/RACMO2.3p2/'\n",
    "\n",
    "fs_s3 = s3fs.S3FileSystem(anon=False, profile='icesat2')\n",
    "racmo_s3_files = fs_s3.ls(racmo_s3_dir)\n"
   ]
  },
  {
   "cell_type": "code",
   "execution_count": 3,
   "id": "ade1e038-b240-4181-a296-53ece0494816",
   "metadata": {
    "tags": []
   },
   "outputs": [
    {
     "name": "stdout",
     "output_type": "stream",
     "text": [
      "Elapsed time:  53.5 sec\n"
     ]
    }
   ],
   "source": [
    "racmo_s3_file = racmo_s3_files[0]\n",
    "\n",
    "start = time.time()\n",
    "\n",
    "f = fs_s3.open(racmo_s3_file, 'rb')\n",
    "ds = xr.open_dataset(f) #, engine='netcdf4')\n",
    "runoff = ds.variables['runoffcorr'][:,:100,:100].to_numpy() #[:,:,:]\n",
    "x = ds.variables['x'].to_numpy() #[:]\n",
    "y = ds.variables['y'].to_numpy() #[:]\n",
    "ds.close()\n",
    "\n",
    "end = time.time()\n",
    "print('Elapsed time: {:5.1f} sec'.format(end-start))\n",
    "\n",
    "#units = 'kg day^-1 m^-2'\n",
    "#units = units.replace(' m^-2', '')\n"
   ]
  },
  {
   "cell_type": "markdown",
   "id": "e0a5bb73-8ef0-4239-b81c-e7329997ba2b",
   "metadata": {
    "tags": [],
    "user_expressions": []
   },
   "source": [
    "# Create mask array\n",
    "We'll use this mask array to extract runoff from RACMO grid cells within our basin"
   ]
  },
  {
   "cell_type": "code",
   "execution_count": 4,
   "id": "2a0bef38-e30c-441e-91e7-244e7b7f4294",
   "metadata": {
    "tags": []
   },
   "outputs": [
    {
     "name": "stderr",
     "output_type": "stream",
     "text": [
      "/home/jovyan/Climate-Model-Analysis/RasterClipperFunctions.py:59: ShapelyDeprecationWarning: The 'cascaded_union()' function is deprecated. Use 'unary_union()' instead.\n",
      "  polyUnion = cascaded_union(polys)\n"
     ]
    }
   ],
   "source": [
    "#p = Proj(proj='stere',lat_0=90,lat_ts=70,lon_0=-45,ellps='WGS84')\n",
    "#area = 1000. * 1000. # hard-coded to 1 km by 1 km\n",
    "\n",
    "# Shapefile\n",
    "(xClip, yClip) = RasterClipperFunctions.basinUnionPolygon('gimpbasinspoly/gimpbasinspoly.shp', 'basin=16.0')\n",
    "\n",
    "xm, ym = np.meshgrid(x, y)\n",
    "iStep = x[1] - x[0]\n",
    "\n",
    "geoTransform = (x[0]-iStep/2, iStep, 0, y[-1]+iStep/2, 0, -iStep)\n",
    "maskArray = np.flipud(RasterClipperFunctions.clipImage(np.flipud(np.ones(xm.shape)), xClip, yClip, geoTransform))\n"
   ]
  },
  {
   "cell_type": "markdown",
   "id": "f29404a9-819a-41ad-b66b-c5e77604b472",
   "metadata": {
    "user_expressions": []
   },
   "source": [
    "# Loop through RACMO files"
   ]
  },
  {
   "cell_type": "code",
   "execution_count": 5,
   "id": "1b7530a4-ecff-4896-a490-db90fe386c01",
   "metadata": {
    "tags": []
   },
   "outputs": [
    {
     "name": "stdout",
     "output_type": "stream",
     "text": [
      "gris-outlet-glacier-seasonality-icesat2/Data/RACMO/RACMO2.3p2/runoff.2000_AMJ.BN_RACMO2.3p2_ERA5_3h_FGRN055.1km.DD.nc\n",
      "gris-outlet-glacier-seasonality-icesat2/Data/RACMO/RACMO2.3p2/runoff.2000_JAS.BN_RACMO2.3p2_ERA5_3h_FGRN055.1km.DD.nc\n",
      "gris-outlet-glacier-seasonality-icesat2/Data/RACMO/RACMO2.3p2/runoff.2000_JFM.BN_RACMO2.3p2_ERA5_3h_FGRN055.1km.DD.nc\n",
      "gris-outlet-glacier-seasonality-icesat2/Data/RACMO/RACMO2.3p2/runoff.2000_OND.BN_RACMO2.3p2_ERA5_3h_FGRN055.1km.DD.nc\n",
      "gris-outlet-glacier-seasonality-icesat2/Data/RACMO/RACMO2.3p2/runoff.2001_AMJ.BN_RACMO2.3p2_ERA5_3h_FGRN055.1km.DD.nc\n",
      "gris-outlet-glacier-seasonality-icesat2/Data/RACMO/RACMO2.3p2/runoff.2001_JAS.BN_RACMO2.3p2_ERA5_3h_FGRN055.1km.DD.nc\n",
      "gris-outlet-glacier-seasonality-icesat2/Data/RACMO/RACMO2.3p2/runoff.2001_JFM.BN_RACMO2.3p2_ERA5_3h_FGRN055.1km.DD.nc\n",
      "gris-outlet-glacier-seasonality-icesat2/Data/RACMO/RACMO2.3p2/runoff.2001_OND.BN_RACMO2.3p2_ERA5_3h_FGRN055.1km.DD.nc\n",
      "gris-outlet-glacier-seasonality-icesat2/Data/RACMO/RACMO2.3p2/runoff.2002_AMJ.BN_RACMO2.3p2_ERA5_3h_FGRN055.1km.DD.nc\n",
      "gris-outlet-glacier-seasonality-icesat2/Data/RACMO/RACMO2.3p2/runoff.2002_JAS.BN_RACMO2.3p2_ERA5_3h_FGRN055.1km.DD.nc\n",
      "gris-outlet-glacier-seasonality-icesat2/Data/RACMO/RACMO2.3p2/runoff.2002_JFM.BN_RACMO2.3p2_ERA5_3h_FGRN055.1km.DD.nc\n",
      "gris-outlet-glacier-seasonality-icesat2/Data/RACMO/RACMO2.3p2/runoff.2002_OND.BN_RACMO2.3p2_ERA5_3h_FGRN055.1km.DD.nc\n",
      "gris-outlet-glacier-seasonality-icesat2/Data/RACMO/RACMO2.3p2/runoff.2003_AMJ.BN_RACMO2.3p2_ERA5_3h_FGRN055.1km.DD.nc\n",
      "gris-outlet-glacier-seasonality-icesat2/Data/RACMO/RACMO2.3p2/runoff.2003_JAS.BN_RACMO2.3p2_ERA5_3h_FGRN055.1km.DD.nc\n",
      "gris-outlet-glacier-seasonality-icesat2/Data/RACMO/RACMO2.3p2/runoff.2003_JFM.BN_RACMO2.3p2_ERA5_3h_FGRN055.1km.DD.nc\n",
      "gris-outlet-glacier-seasonality-icesat2/Data/RACMO/RACMO2.3p2/runoff.2003_OND.BN_RACMO2.3p2_ERA5_3h_FGRN055.1km.DD.nc\n",
      "gris-outlet-glacier-seasonality-icesat2/Data/RACMO/RACMO2.3p2/runoff.2004_AMJ.BN_RACMO2.3p2_ERA5_3h_FGRN055.1km.DD.nc\n",
      "gris-outlet-glacier-seasonality-icesat2/Data/RACMO/RACMO2.3p2/runoff.2004_JAS.BN_RACMO2.3p2_ERA5_3h_FGRN055.1km.DD.nc\n",
      "gris-outlet-glacier-seasonality-icesat2/Data/RACMO/RACMO2.3p2/runoff.2004_JFM.BN_RACMO2.3p2_ERA5_3h_FGRN055.1km.DD.nc\n",
      "gris-outlet-glacier-seasonality-icesat2/Data/RACMO/RACMO2.3p2/runoff.2004_OND.BN_RACMO2.3p2_ERA5_3h_FGRN055.1km.DD.nc\n",
      "gris-outlet-glacier-seasonality-icesat2/Data/RACMO/RACMO2.3p2/runoff.2005_AMJ.BN_RACMO2.3p2_ERA5_3h_FGRN055.1km.DD.nc\n",
      "gris-outlet-glacier-seasonality-icesat2/Data/RACMO/RACMO2.3p2/runoff.2005_JAS.BN_RACMO2.3p2_ERA5_3h_FGRN055.1km.DD.nc\n",
      "gris-outlet-glacier-seasonality-icesat2/Data/RACMO/RACMO2.3p2/runoff.2005_JFM.BN_RACMO2.3p2_ERA5_3h_FGRN055.1km.DD.nc\n",
      "gris-outlet-glacier-seasonality-icesat2/Data/RACMO/RACMO2.3p2/runoff.2005_OND.BN_RACMO2.3p2_ERA5_3h_FGRN055.1km.DD.nc\n",
      "gris-outlet-glacier-seasonality-icesat2/Data/RACMO/RACMO2.3p2/runoff.2006_AMJ.BN_RACMO2.3p2_ERA5_3h_FGRN055.1km.DD.nc\n",
      "gris-outlet-glacier-seasonality-icesat2/Data/RACMO/RACMO2.3p2/runoff.2006_JAS.BN_RACMO2.3p2_ERA5_3h_FGRN055.1km.DD.nc\n",
      "gris-outlet-glacier-seasonality-icesat2/Data/RACMO/RACMO2.3p2/runoff.2006_JFM.BN_RACMO2.3p2_ERA5_3h_FGRN055.1km.DD.nc\n",
      "gris-outlet-glacier-seasonality-icesat2/Data/RACMO/RACMO2.3p2/runoff.2006_OND.BN_RACMO2.3p2_ERA5_3h_FGRN055.1km.DD.nc\n",
      "gris-outlet-glacier-seasonality-icesat2/Data/RACMO/RACMO2.3p2/runoff.2007_AMJ.BN_RACMO2.3p2_ERA5_3h_FGRN055.1km.DD.nc\n",
      "gris-outlet-glacier-seasonality-icesat2/Data/RACMO/RACMO2.3p2/runoff.2007_JAS.BN_RACMO2.3p2_ERA5_3h_FGRN055.1km.DD.nc\n",
      "gris-outlet-glacier-seasonality-icesat2/Data/RACMO/RACMO2.3p2/runoff.2007_JFM.BN_RACMO2.3p2_ERA5_3h_FGRN055.1km.DD.nc\n",
      "gris-outlet-glacier-seasonality-icesat2/Data/RACMO/RACMO2.3p2/runoff.2007_OND.BN_RACMO2.3p2_ERA5_3h_FGRN055.1km.DD.nc\n",
      "gris-outlet-glacier-seasonality-icesat2/Data/RACMO/RACMO2.3p2/runoff.2008_AMJ.BN_RACMO2.3p2_ERA5_3h_FGRN055.1km.DD.nc\n",
      "gris-outlet-glacier-seasonality-icesat2/Data/RACMO/RACMO2.3p2/runoff.2008_JAS.BN_RACMO2.3p2_ERA5_3h_FGRN055.1km.DD.nc\n",
      "gris-outlet-glacier-seasonality-icesat2/Data/RACMO/RACMO2.3p2/runoff.2008_JFM.BN_RACMO2.3p2_ERA5_3h_FGRN055.1km.DD.nc\n",
      "gris-outlet-glacier-seasonality-icesat2/Data/RACMO/RACMO2.3p2/runoff.2008_OND.BN_RACMO2.3p2_ERA5_3h_FGRN055.1km.DD.nc\n",
      "gris-outlet-glacier-seasonality-icesat2/Data/RACMO/RACMO2.3p2/runoff.2009_AMJ.BN_RACMO2.3p2_ERA5_3h_FGRN055.1km.DD.nc\n",
      "gris-outlet-glacier-seasonality-icesat2/Data/RACMO/RACMO2.3p2/runoff.2009_JAS.BN_RACMO2.3p2_ERA5_3h_FGRN055.1km.DD.nc\n",
      "gris-outlet-glacier-seasonality-icesat2/Data/RACMO/RACMO2.3p2/runoff.2009_OND.BN_RACMO2.3p2_ERA5_3h_FGRN055.1km.DD.nc\n",
      "gris-outlet-glacier-seasonality-icesat2/Data/RACMO/RACMO2.3p2/runoff.2010_AMJ.BN_RACMO2.3p2_ERA5_3h_FGRN055.1km.DD.nc\n",
      "gris-outlet-glacier-seasonality-icesat2/Data/RACMO/RACMO2.3p2/runoff.2010_JAS.BN_RACMO2.3p2_ERA5_3h_FGRN055.1km.DD.nc\n",
      "gris-outlet-glacier-seasonality-icesat2/Data/RACMO/RACMO2.3p2/runoff.2010_JFM.BN_RACMO2.3p2_ERA5_3h_FGRN055.1km.DD.nc\n",
      "gris-outlet-glacier-seasonality-icesat2/Data/RACMO/RACMO2.3p2/runoff.2010_OND.BN_RACMO2.3p2_ERA5_3h_FGRN055.1km.DD.nc\n",
      "gris-outlet-glacier-seasonality-icesat2/Data/RACMO/RACMO2.3p2/runoff.2011_AMJ.BN_RACMO2.3p2_ERA5_3h_FGRN055.1km.DD.nc\n",
      "gris-outlet-glacier-seasonality-icesat2/Data/RACMO/RACMO2.3p2/runoff.2011_JAS.BN_RACMO2.3p2_ERA5_3h_FGRN055.1km.DD.nc\n",
      "gris-outlet-glacier-seasonality-icesat2/Data/RACMO/RACMO2.3p2/runoff.2011_JFM.BN_RACMO2.3p2_ERA5_3h_FGRN055.1km.DD.nc\n",
      "gris-outlet-glacier-seasonality-icesat2/Data/RACMO/RACMO2.3p2/runoff.2011_OND.BN_RACMO2.3p2_ERA5_3h_FGRN055.1km.DD.nc\n",
      "gris-outlet-glacier-seasonality-icesat2/Data/RACMO/RACMO2.3p2/runoff.2012_AMJ.BN_RACMO2.3p2_ERA5_3h_FGRN055.1km.DD.nc\n",
      "gris-outlet-glacier-seasonality-icesat2/Data/RACMO/RACMO2.3p2/runoff.2012_JAS.BN_RACMO2.3p2_ERA5_3h_FGRN055.1km.DD.nc\n",
      "gris-outlet-glacier-seasonality-icesat2/Data/RACMO/RACMO2.3p2/runoff.2012_JFM.BN_RACMO2.3p2_ERA5_3h_FGRN055.1km.DD.nc\n",
      "gris-outlet-glacier-seasonality-icesat2/Data/RACMO/RACMO2.3p2/runoff.2012_OND.BN_RACMO2.3p2_ERA5_3h_FGRN055.1km.DD.nc\n",
      "gris-outlet-glacier-seasonality-icesat2/Data/RACMO/RACMO2.3p2/runoff.2013_AMJ.BN_RACMO2.3p2_ERA5_3h_FGRN055.1km.DD.nc\n",
      "gris-outlet-glacier-seasonality-icesat2/Data/RACMO/RACMO2.3p2/runoff.2013_JAS.BN_RACMO2.3p2_ERA5_3h_FGRN055.1km.DD.nc\n",
      "gris-outlet-glacier-seasonality-icesat2/Data/RACMO/RACMO2.3p2/runoff.2013_JFM.BN_RACMO2.3p2_ERA5_3h_FGRN055.1km.DD.nc\n",
      "gris-outlet-glacier-seasonality-icesat2/Data/RACMO/RACMO2.3p2/runoff.2013_OND.BN_RACMO2.3p2_ERA5_3h_FGRN055.1km.DD.nc\n",
      "gris-outlet-glacier-seasonality-icesat2/Data/RACMO/RACMO2.3p2/runoff.2014_AMJ.BN_RACMO2.3p2_ERA5_3h_FGRN055.1km.DD.nc\n",
      "gris-outlet-glacier-seasonality-icesat2/Data/RACMO/RACMO2.3p2/runoff.2014_JAS.BN_RACMO2.3p2_ERA5_3h_FGRN055.1km.DD.nc\n",
      "gris-outlet-glacier-seasonality-icesat2/Data/RACMO/RACMO2.3p2/runoff.2014_JFM.BN_RACMO2.3p2_ERA5_3h_FGRN055.1km.DD.nc\n",
      "gris-outlet-glacier-seasonality-icesat2/Data/RACMO/RACMO2.3p2/runoff.2014_OND.BN_RACMO2.3p2_ERA5_3h_FGRN055.1km.DD.nc\n",
      "gris-outlet-glacier-seasonality-icesat2/Data/RACMO/RACMO2.3p2/runoff.2015_AMJ.BN_RACMO2.3p2_ERA5_3h_FGRN055.1km.DD.nc\n",
      "gris-outlet-glacier-seasonality-icesat2/Data/RACMO/RACMO2.3p2/runoff.2015_JAS.BN_RACMO2.3p2_ERA5_3h_FGRN055.1km.DD.nc\n",
      "gris-outlet-glacier-seasonality-icesat2/Data/RACMO/RACMO2.3p2/runoff.2015_JFM.BN_RACMO2.3p2_ERA5_3h_FGRN055.1km.DD.nc\n",
      "gris-outlet-glacier-seasonality-icesat2/Data/RACMO/RACMO2.3p2/runoff.2015_OND.BN_RACMO2.3p2_ERA5_3h_FGRN055.1km.DD.nc\n",
      "gris-outlet-glacier-seasonality-icesat2/Data/RACMO/RACMO2.3p2/runoff.2016_JFM.BN_RACMO2.3p2_ERA5_3h_FGRN055.1km.DD.nc\n",
      "gris-outlet-glacier-seasonality-icesat2/Data/RACMO/RACMO2.3p2/runoff.2016_OND.BN_RACMO2.3p2_ERA5_3h_FGRN055.1km.DD.nc\n",
      "gris-outlet-glacier-seasonality-icesat2/Data/RACMO/RACMO2.3p2/runoff.2017_AMJ.BN_RACMO2.3p2_ERA5_3h_FGRN055.1km.DD.nc\n",
      "gris-outlet-glacier-seasonality-icesat2/Data/RACMO/RACMO2.3p2/runoff.2017_JAS.BN_RACMO2.3p2_ERA5_3h_FGRN055.1km.DD.nc\n",
      "gris-outlet-glacier-seasonality-icesat2/Data/RACMO/RACMO2.3p2/runoff.2017_JFM.BN_RACMO2.3p2_ERA5_3h_FGRN055.1km.DD.nc\n",
      "gris-outlet-glacier-seasonality-icesat2/Data/RACMO/RACMO2.3p2/runoff.2017_OND.BN_RACMO2.3p2_ERA5_3h_FGRN055.1km.DD.nc\n",
      "gris-outlet-glacier-seasonality-icesat2/Data/RACMO/RACMO2.3p2/runoff.2018_AMJ.BN_RACMO2.3p2_ERA5_3h_FGRN055.1km.DD.nc\n",
      "gris-outlet-glacier-seasonality-icesat2/Data/RACMO/RACMO2.3p2/runoff.2018_JAS.BN_RACMO2.3p2_ERA5_3h_FGRN055.1km.DD.nc\n",
      "gris-outlet-glacier-seasonality-icesat2/Data/RACMO/RACMO2.3p2/runoff.2018_JFM.BN_RACMO2.3p2_ERA5_3h_FGRN055.1km.DD.nc\n",
      "gris-outlet-glacier-seasonality-icesat2/Data/RACMO/RACMO2.3p2/runoff.2018_OND.BN_RACMO2.3p2_ERA5_3h_FGRN055.1km.DD.nc\n",
      "gris-outlet-glacier-seasonality-icesat2/Data/RACMO/RACMO2.3p2/runoff.2019_AMJ.BN_RACMO2.3p2_ERA5_3h_FGRN055.1km.DD.nc\n",
      "gris-outlet-glacier-seasonality-icesat2/Data/RACMO/RACMO2.3p2/runoff.2019_JAS.BN_RACMO2.3p2_ERA5_3h_FGRN055.1km.DD.nc\n",
      "gris-outlet-glacier-seasonality-icesat2/Data/RACMO/RACMO2.3p2/runoff.2019_JFM.BN_RACMO2.3p2_ERA5_3h_FGRN055.1km.DD.nc\n",
      "gris-outlet-glacier-seasonality-icesat2/Data/RACMO/RACMO2.3p2/runoff.2019_OND.BN_RACMO2.3p2_ERA5_3h_FGRN055.1km.DD.nc\n",
      "gris-outlet-glacier-seasonality-icesat2/Data/RACMO/RACMO2.3p2/runoff.2020_AMJ.BN_RACMO2.3p2_ERA5_3h_FGRN055.1km.DD.nc\n",
      "gris-outlet-glacier-seasonality-icesat2/Data/RACMO/RACMO2.3p2/runoff.2020_JAS.BN_RACMO2.3p2_ERA5_3h_FGRN055.1km.DD.nc\n",
      "gris-outlet-glacier-seasonality-icesat2/Data/RACMO/RACMO2.3p2/runoff.2020_JFM.BN_RACMO2.3p2_ERA5_3h_FGRN055.1km.DD.nc\n",
      "gris-outlet-glacier-seasonality-icesat2/Data/RACMO/RACMO2.3p2/runoff.2020_OND.BN_RACMO2.3p2_ERA5_3h_FGRN055.1km.DD.nc\n",
      "gris-outlet-glacier-seasonality-icesat2/Data/RACMO/RACMO2.3p2/runoff.2021_AMJ.BN_RACMO2.3p2_ERA5_3h_FGRN055.1km.DD.nc\n",
      "gris-outlet-glacier-seasonality-icesat2/Data/RACMO/RACMO2.3p2/runoff.2021_JAS.BN_RACMO2.3p2_ERA5_3h_FGRN055.1km.DD.nc\n",
      "gris-outlet-glacier-seasonality-icesat2/Data/RACMO/RACMO2.3p2/runoff.2021_JFM.BN_RACMO2.3p2_ERA5_3h_FGRN055.1km.DD.nc\n",
      "gris-outlet-glacier-seasonality-icesat2/Data/RACMO/RACMO2.3p2/runoff.2021_OND.BN_RACMO2.3p2_ERA5_3h_FGRN055.1km.DD.nc\n"
     ]
    }
   ],
   "source": [
    "runoff_dts = list()\n",
    "dt = datetime.date(int(2000), int(1), int(1))\n",
    "while dt <= datetime.date(int(2021), int(12), int(31)):\n",
    "    runoff_dts.append(dt)\n",
    "    dt += datetime.timedelta(days=1)\n",
    "\n",
    "runoff_dts = list()\n",
    "\n",
    "#runoffSum = np.nan * np.zeros(len(racmo_s3_files))\n",
    "runoffSum = np.nan * np.zeros( 9999 )\n",
    "idx = 0\n",
    "for i, racmo_s3_file in enumerate(racmo_s3_files):\n",
    "    print(racmo_s3_file)\n",
    "    f = fs_s3.open(racmo_s3_file, 'rb')\n",
    "    ds = xr.open_dataset(f) #, engine='netcdf4')\n",
    "    runoff = ds.variables['runoffcorr'].to_numpy()\n",
    "    #runoffSum[i] = np.nansum(np.where(maskArray > 0.5, np.sum(runoff, axis=0), np.nan))\n",
    "    maskArray_3d = np.broadcast_to(maskArray > 0.5, runoff.shape)\n",
    "    runoffSum[idx:idx+runoff.shape[0]] = np.nansum(np.where(maskArray_3d, runoff, np.nan), axis=(1,2))\n",
    "    runoff_dts.extend(ds.variables['time'].to_numpy())\n",
    "    ds.close()\n",
    "    idx += runoff.shape[0]\n",
    "    \n",
    "# Change units from mm w.e. to m3 per day\n",
    "runoffSum_m3 = (runoffSum/1000.)*1000.*1000.\n"
   ]
  },
  {
   "cell_type": "code",
   "execution_count": 44,
   "id": "1c298132-2f36-486c-9317-e4373a1c8117",
   "metadata": {
    "tags": []
   },
   "outputs": [],
   "source": [
    "runoffSum_m3 = (runoffSum/1000.)*1000.*1000."
   ]
  },
  {
   "cell_type": "code",
   "execution_count": 45,
   "id": "797f8d8d-787e-4a20-b004-9bc0638e476e",
   "metadata": {},
   "outputs": [],
   "source": [
    "n = len(runoff_dts)\n",
    "runoffSum_m3 = runoffSum_m3[:n]\n",
    "\n",
    "runoff_dts = np.array(runoff_dts)\n",
    "\n",
    "# Sort by time\n",
    "idx = np.argsort(runoff_dts)\n",
    "runoff_dts = runoff_dts[idx]\n",
    "runoffSum_m3 = runoffSum_m3[idx]\n",
    "\n",
    "runoff_years = runoff_dts.astype('datetime64[Y]').astype(int) + 1970\n",
    "runoff_months = runoff_dts.astype('datetime64[M]').astype(int) % 12 + 1\n",
    "runoff_days = runoff_dts - runoff_dts.astype('datetime64[M]') + 1\n",
    "\n",
    "# Save output file - daily\n",
    "f = open('runoff_daily.csv', 'w')\n",
    "for i, dt in enumerate(runoff_dts):\n",
    "    f.write('{:4d}, {:2d}, {:2s}, {:10.2f}\\n'.format(runoff_years[i], runoff_months[i], runoff_dts[i].astype(str)[8:10], runoffSum_m3[i]))\n",
    "f.close()\n",
    "\n",
    "# Sum over months\n",
    "runoff_monthly_m3 = list()\n",
    "for year in np.arange(2000,2022):\n",
    "    for month in np.arange(1,13):\n",
    "        idx = np.where(np.logical_and(runoff_years==year, runoff_months==month))\n",
    "        runoff_monthly_m3.append(np.sum(runoffSum_m3[idx]))\n",
    "        \n",
    "# Save output file - monthly\n",
    "f = open('runoff_monthly.csv', 'w')\n",
    "i = 0\n",
    "for year in np.arange(2000,2022):\n",
    "    for month in np.arange(1,13):\n",
    "        f.write('{:4d}, {:2d}, {:10.2f}\\n'.format(year, month, runoff_monthly_m3[i]))\n",
    "        i += 1\n",
    "f.close()\n"
   ]
  },
  {
   "cell_type": "markdown",
   "id": "c29edd64-ffd3-44ff-ac2e-7e65dff373f9",
   "metadata": {},
   "source": [
    "# Experimental code"
   ]
  },
  {
   "cell_type": "code",
   "execution_count": null,
   "id": "037bb636-8950-4885-bbe3-575d7214b146",
   "metadata": {
    "tags": []
   },
   "outputs": [],
   "source": [
    "from kerchunk.hdf import SingleHdf5ToZarr \n",
    "from kerchunk.combine import MultiZarrToZarr\n",
    "\n",
    "import dask\n",
    "from dask.distributed import Client\n",
    "client = Client(n_workers=8)\n",
    "client\n"
   ]
  },
  {
   "cell_type": "code",
   "execution_count": null,
   "id": "3c36b939-eee0-4d56-b910-f43d1e435286",
   "metadata": {
    "tags": []
   },
   "outputs": [],
   "source": [
    "def gen_json(u):\n",
    "    so = dict(\n",
    "        mode=\"rb\", anon=True, default_fill_cache=False,\n",
    "        default_cache_type=\"none\"\n",
    "    )\n",
    "    with fs_s3.open(u, **so) as inf:\n",
    "        h5chunks = SingleHdf5ToZarr(inf, u, inline_threshold=300)\n",
    "        with open(f\"jsons/{u.split('/')[-1]}.json\", 'wb') as outf:\n",
    "           outf.write(ujson.dumps(h5chunks.translate()).encode())\n",
    "        "
   ]
  },
  {
   "cell_type": "code",
   "execution_count": null,
   "id": "aabd47cb-cfb2-4df7-883a-bc01f9d5efda",
   "metadata": {
    "tags": []
   },
   "outputs": [],
   "source": [
    "gen_json('s3://' + racmo_s3_files[0])\n"
   ]
  },
  {
   "cell_type": "code",
   "execution_count": null,
   "id": "7b23b155-8c10-4c07-a458-6cf539c74a13",
   "metadata": {
    "tags": []
   },
   "outputs": [],
   "source": [
    "import pathlib\n",
    "pathlib.Path('./jsons/').mkdir(exist_ok=True)\n",
    "dask.compute(*[dask.delayed(gen_json)('s3://' + u) for u in racmo_s3_files])\n"
   ]
  },
  {
   "cell_type": "code",
   "execution_count": null,
   "id": "17a58776-8f49-4084-a3ee-19aa14b42dde",
   "metadata": {},
   "outputs": [],
   "source": [
    "from functools import partial\n",
    "\n",
    "def _preprocess(array, mask):\n",
    "    return array[:,:10,:10]\n",
    "\n",
    "partial_func = partial(_preprocess, mask=maskArray)\n",
    "#ds = xr.open_mfdataset(\"file_*.nc\", concat_dim=\"time\", preprocess=partial_func)  \n",
    "\n",
    "f = fs_s3.open(racmo_s3_file, 'rb')\n",
    "ds = xr.open_mfdataset(f, preprocess=partial_func)"
   ]
  },
  {
   "cell_type": "code",
   "execution_count": null,
   "id": "545ef220-ebc9-4fd3-a90e-12605e27004a",
   "metadata": {
    "tags": []
   },
   "outputs": [],
   "source": [
    "ds"
   ]
  },
  {
   "cell_type": "code",
   "execution_count": null,
   "id": "c0fc01bd-a40b-48c3-8ef4-c4fcb2db8cf0",
   "metadata": {},
   "outputs": [],
   "source": []
  }
 ],
 "metadata": {
  "kernelspec": {
   "display_name": "Python 3 (ipykernel)",
   "language": "python",
   "name": "python3"
  },
  "language_info": {
   "codemirror_mode": {
    "name": "ipython",
    "version": 3
   },
   "file_extension": ".py",
   "mimetype": "text/x-python",
   "name": "python",
   "nbconvert_exporter": "python",
   "pygments_lexer": "ipython3",
   "version": "3.10.11"
  }
 },
 "nbformat": 4,
 "nbformat_minor": 5
}
